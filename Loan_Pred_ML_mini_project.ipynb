{
 "cells": [
  {
   "cell_type": "markdown",
   "id": "8b1f9ddd",
   "metadata": {},
   "source": [
    "# 1.Check eligibility of the Customer given the inputs. "
   ]
  },
  {
   "cell_type": "code",
   "execution_count": 1,
   "id": "a335f8f1",
   "metadata": {},
   "outputs": [],
   "source": [
    "from warnings import filterwarnings\n",
    "filterwarnings(\"ignore\")"
   ]
  },
  {
   "cell_type": "markdown",
   "id": "ee62625e",
   "metadata": {},
   "source": [
    "# Read file"
   ]
  },
  {
   "cell_type": "code",
   "execution_count": 2,
   "id": "522f3be3",
   "metadata": {},
   "outputs": [],
   "source": [
    "import pandas as pd\n",
    "A = pd.read_csv(\"E:/Data Science/ML Mini Project/training_set.csv\")"
   ]
  },
  {
   "cell_type": "code",
   "execution_count": 3,
   "id": "0fd29fb0",
   "metadata": {},
   "outputs": [
    {
     "data": {
      "text/html": [
       "<div>\n",
       "<style scoped>\n",
       "    .dataframe tbody tr th:only-of-type {\n",
       "        vertical-align: middle;\n",
       "    }\n",
       "\n",
       "    .dataframe tbody tr th {\n",
       "        vertical-align: top;\n",
       "    }\n",
       "\n",
       "    .dataframe thead th {\n",
       "        text-align: right;\n",
       "    }\n",
       "</style>\n",
       "<table border=\"1\" class=\"dataframe\">\n",
       "  <thead>\n",
       "    <tr style=\"text-align: right;\">\n",
       "      <th></th>\n",
       "      <th>Loan_ID</th>\n",
       "      <th>Gender</th>\n",
       "      <th>Married</th>\n",
       "      <th>Dependents</th>\n",
       "      <th>Education</th>\n",
       "      <th>Self_Employed</th>\n",
       "      <th>ApplicantIncome</th>\n",
       "      <th>CoapplicantIncome</th>\n",
       "      <th>LoanAmount</th>\n",
       "      <th>Loan_Amount_Term</th>\n",
       "      <th>Credit_History</th>\n",
       "      <th>Property_Area</th>\n",
       "      <th>Loan_Status</th>\n",
       "    </tr>\n",
       "  </thead>\n",
       "  <tbody>\n",
       "    <tr>\n",
       "      <th>0</th>\n",
       "      <td>LP001002</td>\n",
       "      <td>Male</td>\n",
       "      <td>No</td>\n",
       "      <td>0</td>\n",
       "      <td>Graduate</td>\n",
       "      <td>No</td>\n",
       "      <td>5849.0</td>\n",
       "      <td>0.0</td>\n",
       "      <td>NaN</td>\n",
       "      <td>360.0</td>\n",
       "      <td>1.0</td>\n",
       "      <td>Urban</td>\n",
       "      <td>Y</td>\n",
       "    </tr>\n",
       "    <tr>\n",
       "      <th>1</th>\n",
       "      <td>LP001003</td>\n",
       "      <td>Male</td>\n",
       "      <td>Yes</td>\n",
       "      <td>1</td>\n",
       "      <td>Graduate</td>\n",
       "      <td>No</td>\n",
       "      <td>NaN</td>\n",
       "      <td>1508.0</td>\n",
       "      <td>128.0</td>\n",
       "      <td>360.0</td>\n",
       "      <td>1.0</td>\n",
       "      <td>Rural</td>\n",
       "      <td>N</td>\n",
       "    </tr>\n",
       "    <tr>\n",
       "      <th>2</th>\n",
       "      <td>LP001005</td>\n",
       "      <td>Male</td>\n",
       "      <td>Yes</td>\n",
       "      <td>0</td>\n",
       "      <td>Graduate</td>\n",
       "      <td>Yes</td>\n",
       "      <td>3000.0</td>\n",
       "      <td>0.0</td>\n",
       "      <td>66.0</td>\n",
       "      <td>360.0</td>\n",
       "      <td>1.0</td>\n",
       "      <td>Urban</td>\n",
       "      <td>Y</td>\n",
       "    </tr>\n",
       "  </tbody>\n",
       "</table>\n",
       "</div>"
      ],
      "text/plain": [
       "    Loan_ID Gender Married Dependents Education Self_Employed  \\\n",
       "0  LP001002   Male      No          0  Graduate            No   \n",
       "1  LP001003   Male     Yes          1  Graduate            No   \n",
       "2  LP001005   Male     Yes          0  Graduate           Yes   \n",
       "\n",
       "   ApplicantIncome  CoapplicantIncome  LoanAmount  Loan_Amount_Term  \\\n",
       "0           5849.0                0.0         NaN             360.0   \n",
       "1              NaN             1508.0       128.0             360.0   \n",
       "2           3000.0                0.0        66.0             360.0   \n",
       "\n",
       "   Credit_History Property_Area Loan_Status  \n",
       "0             1.0         Urban           Y  \n",
       "1             1.0         Rural           N  \n",
       "2             1.0         Urban           Y  "
      ]
     },
     "execution_count": 3,
     "metadata": {},
     "output_type": "execute_result"
    }
   ],
   "source": [
    "A.head(3)"
   ]
  },
  {
   "cell_type": "markdown",
   "id": "8f7722ed",
   "metadata": {},
   "source": [
    "# Missing data treatment"
   ]
  },
  {
   "cell_type": "code",
   "execution_count": 4,
   "id": "0d1ee4f6",
   "metadata": {},
   "outputs": [
    {
     "data": {
      "text/plain": [
       "Loan_ID               0\n",
       "Gender               15\n",
       "Married               3\n",
       "Dependents           15\n",
       "Education             1\n",
       "Self_Employed        32\n",
       "ApplicantIncome       2\n",
       "CoapplicantIncome     1\n",
       "LoanAmount           22\n",
       "Loan_Amount_Term     14\n",
       "Credit_History       50\n",
       "Property_Area         0\n",
       "Loan_Status           0\n",
       "dtype: int64"
      ]
     },
     "execution_count": 4,
     "metadata": {},
     "output_type": "execute_result"
    }
   ],
   "source": [
    "A.isna().sum()"
   ]
  },
  {
   "cell_type": "code",
   "execution_count": 5,
   "id": "c9650b7a",
   "metadata": {},
   "outputs": [],
   "source": [
    "from miss import replacer\n",
    "replacer(A)"
   ]
  },
  {
   "cell_type": "code",
   "execution_count": 6,
   "id": "924f9dd7",
   "metadata": {},
   "outputs": [
    {
     "data": {
      "text/plain": [
       "Loan_ID              0\n",
       "Gender               0\n",
       "Married              0\n",
       "Dependents           0\n",
       "Education            0\n",
       "Self_Employed        0\n",
       "ApplicantIncome      0\n",
       "CoapplicantIncome    0\n",
       "LoanAmount           0\n",
       "Loan_Amount_Term     0\n",
       "Credit_History       0\n",
       "Property_Area        0\n",
       "Loan_Status          0\n",
       "dtype: int64"
      ]
     },
     "execution_count": 6,
     "metadata": {},
     "output_type": "execute_result"
    }
   ],
   "source": [
    "A.isna().sum()"
   ]
  },
  {
   "cell_type": "markdown",
   "id": "759fbac2",
   "metadata": {},
   "source": [
    "# Delete unnecessary columns"
   ]
  },
  {
   "cell_type": "code",
   "execution_count": 7,
   "id": "f90a14c8",
   "metadata": {},
   "outputs": [
    {
     "data": {
      "text/html": [
       "<div>\n",
       "<style scoped>\n",
       "    .dataframe tbody tr th:only-of-type {\n",
       "        vertical-align: middle;\n",
       "    }\n",
       "\n",
       "    .dataframe tbody tr th {\n",
       "        vertical-align: top;\n",
       "    }\n",
       "\n",
       "    .dataframe thead th {\n",
       "        text-align: right;\n",
       "    }\n",
       "</style>\n",
       "<table border=\"1\" class=\"dataframe\">\n",
       "  <thead>\n",
       "    <tr style=\"text-align: right;\">\n",
       "      <th></th>\n",
       "      <th>Gender</th>\n",
       "      <th>Married</th>\n",
       "      <th>Dependents</th>\n",
       "      <th>Education</th>\n",
       "      <th>Self_Employed</th>\n",
       "      <th>ApplicantIncome</th>\n",
       "      <th>CoapplicantIncome</th>\n",
       "      <th>LoanAmount</th>\n",
       "      <th>Loan_Amount_Term</th>\n",
       "      <th>Credit_History</th>\n",
       "      <th>Property_Area</th>\n",
       "      <th>Loan_Status</th>\n",
       "    </tr>\n",
       "  </thead>\n",
       "  <tbody>\n",
       "    <tr>\n",
       "      <th>0</th>\n",
       "      <td>Male</td>\n",
       "      <td>No</td>\n",
       "      <td>0</td>\n",
       "      <td>Graduate</td>\n",
       "      <td>No</td>\n",
       "      <td>5849.00</td>\n",
       "      <td>0.0</td>\n",
       "      <td>146.41</td>\n",
       "      <td>360.0</td>\n",
       "      <td>1.0</td>\n",
       "      <td>Urban</td>\n",
       "      <td>Y</td>\n",
       "    </tr>\n",
       "    <tr>\n",
       "      <th>1</th>\n",
       "      <td>Male</td>\n",
       "      <td>Yes</td>\n",
       "      <td>1</td>\n",
       "      <td>Graduate</td>\n",
       "      <td>No</td>\n",
       "      <td>5405.54</td>\n",
       "      <td>1508.0</td>\n",
       "      <td>128.00</td>\n",
       "      <td>360.0</td>\n",
       "      <td>1.0</td>\n",
       "      <td>Rural</td>\n",
       "      <td>N</td>\n",
       "    </tr>\n",
       "    <tr>\n",
       "      <th>2</th>\n",
       "      <td>Male</td>\n",
       "      <td>Yes</td>\n",
       "      <td>0</td>\n",
       "      <td>Graduate</td>\n",
       "      <td>Yes</td>\n",
       "      <td>3000.00</td>\n",
       "      <td>0.0</td>\n",
       "      <td>66.00</td>\n",
       "      <td>360.0</td>\n",
       "      <td>1.0</td>\n",
       "      <td>Urban</td>\n",
       "      <td>Y</td>\n",
       "    </tr>\n",
       "  </tbody>\n",
       "</table>\n",
       "</div>"
      ],
      "text/plain": [
       "  Gender Married Dependents Education Self_Employed  ApplicantIncome  \\\n",
       "0   Male      No          0  Graduate            No          5849.00   \n",
       "1   Male     Yes          1  Graduate            No          5405.54   \n",
       "2   Male     Yes          0  Graduate           Yes          3000.00   \n",
       "\n",
       "   CoapplicantIncome  LoanAmount  Loan_Amount_Term  Credit_History  \\\n",
       "0                0.0      146.41             360.0             1.0   \n",
       "1             1508.0      128.00             360.0             1.0   \n",
       "2                0.0       66.00             360.0             1.0   \n",
       "\n",
       "  Property_Area Loan_Status  \n",
       "0         Urban           Y  \n",
       "1         Rural           N  \n",
       "2         Urban           Y  "
      ]
     },
     "execution_count": 7,
     "metadata": {},
     "output_type": "execute_result"
    }
   ],
   "source": [
    "A = A.drop(labels=[\"Loan_ID\"],axis=1)\n",
    "A.head(3)"
   ]
  },
  {
   "cell_type": "markdown",
   "id": "80025d38",
   "metadata": {},
   "source": [
    "# Delete special symbols from data"
   ]
  },
  {
   "cell_type": "code",
   "execution_count": 8,
   "id": "a85c4b20",
   "metadata": {},
   "outputs": [
    {
     "name": "stdout",
     "output_type": "stream",
     "text": [
      "\n",
      " Male      502\n",
      "Female    112\n",
      "Name: Gender, dtype: int64\n",
      "\n",
      " Yes    401\n",
      "No     213\n",
      "Name: Married, dtype: int64\n",
      "\n",
      " 0     360\n",
      "1     102\n",
      "2     101\n",
      "3+     51\n",
      "Name: Dependents, dtype: int64\n",
      "\n",
      " Graduate        480\n",
      "Not Graduate    134\n",
      "Name: Education, dtype: int64\n",
      "\n",
      " No     532\n",
      "Yes     82\n",
      "Name: Self_Employed, dtype: int64\n",
      "\n",
      " 2500.0    9\n",
      "6000.0    6\n",
      "2600.0    6\n",
      "4166.0    5\n",
      "5000.0    5\n",
      "         ..\n",
      "6133.0    1\n",
      "2058.0    1\n",
      "2787.0    1\n",
      "6256.0    1\n",
      "5829.0    1\n",
      "Name: ApplicantIncome, Length: 505, dtype: int64\n",
      "\n",
      " 0.0       273\n",
      "2083.0      5\n",
      "1666.0      5\n",
      "2500.0      5\n",
      "1459.0      3\n",
      "         ... \n",
      "1695.0      1\n",
      "2466.0      1\n",
      "2375.0      1\n",
      "1842.0      1\n",
      "1700.0      1\n",
      "Name: CoapplicantIncome, Length: 287, dtype: int64\n",
      "\n",
      " 146.41    22\n",
      "120.00    20\n",
      "110.00    17\n",
      "100.00    15\n",
      "160.00    12\n",
      "          ..\n",
      "211.00     1\n",
      "250.00     1\n",
      "62.00      1\n",
      "85.00      1\n",
      "436.00     1\n",
      "Name: LoanAmount, Length: 204, dtype: int64\n",
      "\n",
      " 360.0    512\n",
      "180.0     44\n",
      "480.0     15\n",
      "342.0     14\n",
      "300.0     13\n",
      "84.0       4\n",
      "240.0      4\n",
      "120.0      3\n",
      "36.0       2\n",
      "60.0       2\n",
      "12.0       1\n",
      "Name: Loan_Amount_Term, dtype: int64\n",
      "\n",
      " 1.00    475\n",
      "0.00     89\n",
      "0.84     50\n",
      "Name: Credit_History, dtype: int64\n",
      "\n",
      " Semiurban    233\n",
      "Urban        202\n",
      "Rural        179\n",
      "Name: Property_Area, dtype: int64\n",
      "\n",
      " Y    422\n",
      "N    192\n",
      "Name: Loan_Status, dtype: int64\n"
     ]
    }
   ],
   "source": [
    "for i in A.columns:\n",
    "    print(\"\\n\",A[i].value_counts())"
   ]
  },
  {
   "cell_type": "code",
   "execution_count": 9,
   "id": "dc36848d",
   "metadata": {},
   "outputs": [],
   "source": [
    "def spe_sym_removal(df):\n",
    "    raw_dep = []\n",
    "    for i in df.Dependents:\n",
    "        i = i.replace(\"+\",\"\")\n",
    "        raw_dep.append(i)\n",
    "    \n",
    "    return raw_dep"
   ]
  },
  {
   "cell_type": "code",
   "execution_count": 10,
   "id": "0b6d91e4",
   "metadata": {},
   "outputs": [],
   "source": [
    "new_dep = spe_sym_removal(A)"
   ]
  },
  {
   "cell_type": "code",
   "execution_count": 11,
   "id": "5bb07fb2",
   "metadata": {},
   "outputs": [],
   "source": [
    "A[[\"Dependents\"]] = new_dep"
   ]
  },
  {
   "cell_type": "code",
   "execution_count": 12,
   "id": "b9b3cc10",
   "metadata": {},
   "outputs": [
    {
     "data": {
      "text/plain": [
       "0    360\n",
       "1    102\n",
       "2    101\n",
       "3     51\n",
       "Name: Dependents, dtype: int64"
      ]
     },
     "execution_count": 12,
     "metadata": {},
     "output_type": "execute_result"
    }
   ],
   "source": [
    "A.Dependents.value_counts()"
   ]
  },
  {
   "cell_type": "markdown",
   "id": "a0530c25",
   "metadata": {},
   "source": [
    "# Declare X and Y"
   ]
  },
  {
   "cell_type": "code",
   "execution_count": 13,
   "id": "0f609cc3",
   "metadata": {},
   "outputs": [],
   "source": [
    "X = A.drop(labels=[\"Loan_Status\"],axis=1)\n",
    "Y = A[[\"Loan_Status\"]]"
   ]
  },
  {
   "cell_type": "markdown",
   "id": "3ccddaca",
   "metadata": {},
   "source": [
    "# EDA"
   ]
  },
  {
   "cell_type": "markdown",
   "id": "02175980",
   "metadata": {},
   "source": [
    "# 1)Univariant"
   ]
  },
  {
   "cell_type": "code",
   "execution_count": 14,
   "id": "68e1bd73",
   "metadata": {},
   "outputs": [
    {
     "data": {
      "image/png": "[encoded data removed]",
      "text/plain": [
       "<Figure size 1440x2880 with 11 Axes>"
      ]
     },
     "metadata": {
      "needs_background": "light"
     },
     "output_type": "display_data"
    }
   ],
   "source": [
    "import seaborn as sb\n",
    "import matplotlib.pyplot as pt\n",
    "pt.figure(figsize=(20,40))\n",
    "q = 1\n",
    "for i in X.columns:\n",
    "    if X[i].dtype == \"object\":\n",
    "        pt.subplot(11,3,q)\n",
    "        sb.countplot(X[i])\n",
    "        q = q + 1\n",
    "        \n",
    "    else:\n",
    "        pt.subplot(11,3,q)\n",
    "        sb.distplot(X[i])\n",
    "        q = q + 1"
   ]
  },
  {
   "cell_type": "markdown",
   "id": "94b34b67",
   "metadata": {},
   "source": [
    "# 2)Bivariate"
   ]
  },
  {
   "cell_type": "code",
   "execution_count": 15,
   "id": "445b32c7",
   "metadata": {},
   "outputs": [
    {
     "data": {
      "image/png": "[encoded data removed]",
      "text/plain": [
       "<Figure size 1440x2880 with 11 Axes>"
      ]
     },
     "metadata": {
      "needs_background": "light"
     },
     "output_type": "display_data"
    }
   ],
   "source": [
    "import matplotlib.pyplot as pt\n",
    "pt.figure(figsize=(20,40))\n",
    "q = 1\n",
    "for i in X.columns:\n",
    "    if X[i].dtype == \"object\":\n",
    "        pt.subplot(11,3,q)\n",
    "        sb.countplot(y=X[i],hue=Y.Loan_Status)\n",
    "        q = q + 1\n",
    "        \n",
    "    else:\n",
    "        pt.subplot(11,3,q)\n",
    "        sb.boxplot(Y.Loan_Status,X[i])\n",
    "        q = q + 1"
   ]
  },
  {
   "cell_type": "markdown",
   "id": "8b5d0921",
   "metadata": {},
   "source": [
    "# Data Preprocessing"
   ]
  },
  {
   "cell_type": "code",
   "execution_count": 16,
   "id": "ee09dc29",
   "metadata": {},
   "outputs": [],
   "source": [
    "def cat_con_sep(df):\n",
    "    cat = []\n",
    "    con = []\n",
    "    for i in df.columns:\n",
    "        if df[i].dtype == \"object\":\n",
    "            cat.append(i)\n",
    "        \n",
    "        else:\n",
    "            con.append(i)\n",
    "            \n",
    "    \n",
    "    return cat,con"
   ]
  },
  {
   "cell_type": "code",
   "execution_count": 17,
   "id": "366e8838",
   "metadata": {},
   "outputs": [],
   "source": [
    "cat, con =  cat_con_sep(X)"
   ]
  },
  {
   "cell_type": "code",
   "execution_count": 18,
   "id": "f7adcdfb",
   "metadata": {},
   "outputs": [
    {
     "data": {
      "text/plain": [
       "ApplicantIncome      6.538870\n",
       "CoapplicantIncome    7.492000\n",
       "LoanAmount           2.726604\n",
       "Loan_Amount_Term    -2.389680\n",
       "Credit_History      -1.962051\n",
       "dtype: float64"
      ]
     },
     "execution_count": 18,
     "metadata": {},
     "output_type": "execute_result"
    }
   ],
   "source": [
    "X[con].skew()"
   ]
  },
  {
   "cell_type": "code",
   "execution_count": 19,
   "id": "e530a7b3",
   "metadata": {},
   "outputs": [
    {
     "data": {
      "text/plain": [
       "ApplicantIncome      0.477562\n",
       "CoapplicantIncome    0.980113\n",
       "LoanAmount          -0.223224\n",
       "Loan_Amount_Term    -2.389680\n",
       "Credit_History      -1.962051\n",
       "dtype: float64"
      ]
     },
     "execution_count": 19,
     "metadata": {},
     "output_type": "execute_result"
    }
   ],
   "source": [
    "from numpy import log, sqrt\n",
    "X.CoapplicantIncome = sqrt(X.CoapplicantIncome)\n",
    "X.ApplicantIncome = log(X.ApplicantIncome)\n",
    "X.LoanAmount = log(X.LoanAmount)\n",
    "X[con].skew()"
   ]
  },
  {
   "cell_type": "code",
   "execution_count": 20,
   "id": "0f04c80b",
   "metadata": {},
   "outputs": [],
   "source": [
    "from sklearn.preprocessing import StandardScaler\n",
    "def preprocessing_data(df,cat,con):\n",
    "    ss = StandardScaler()\n",
    "    df1 = pd.get_dummies(df[cat])\n",
    "    df2 = pd.DataFrame(ss.fit_transform(df[con]),columns=con)\n",
    "    df3 = df2.join(df1)\n",
    "    return df3"
   ]
  },
  {
   "cell_type": "code",
   "execution_count": 21,
   "id": "5d3d86e5",
   "metadata": {},
   "outputs": [],
   "source": [
    "X = preprocessing_data(X,cat,con)"
   ]
  },
  {
   "cell_type": "code",
   "execution_count": 22,
   "id": "f9a95221",
   "metadata": {},
   "outputs": [
    {
     "data": {
      "text/html": [
       "<div>\n",
       "<style scoped>\n",
       "    .dataframe tbody tr th:only-of-type {\n",
       "        vertical-align: middle;\n",
       "    }\n",
       "\n",
       "    .dataframe tbody tr th {\n",
       "        vertical-align: top;\n",
       "    }\n",
       "\n",
       "    .dataframe thead th {\n",
       "        text-align: right;\n",
       "    }\n",
       "</style>\n",
       "<table border=\"1\" class=\"dataframe\">\n",
       "  <thead>\n",
       "    <tr style=\"text-align: right;\">\n",
       "      <th></th>\n",
       "      <th>ApplicantIncome</th>\n",
       "      <th>CoapplicantIncome</th>\n",
       "      <th>LoanAmount</th>\n",
       "      <th>Loan_Amount_Term</th>\n",
       "      <th>Credit_History</th>\n",
       "      <th>Gender_Female</th>\n",
       "      <th>Gender_Male</th>\n",
       "      <th>Married_No</th>\n",
       "      <th>Married_Yes</th>\n",
       "      <th>Dependents_0</th>\n",
       "      <th>Dependents_1</th>\n",
       "      <th>Dependents_2</th>\n",
       "      <th>Dependents_3</th>\n",
       "      <th>Education_Graduate</th>\n",
       "      <th>Education_Not Graduate</th>\n",
       "      <th>Self_Employed_No</th>\n",
       "      <th>Self_Employed_Yes</th>\n",
       "      <th>Property_Area_Rural</th>\n",
       "      <th>Property_Area_Semiurban</th>\n",
       "      <th>Property_Area_Urban</th>\n",
       "    </tr>\n",
       "  </thead>\n",
       "  <tbody>\n",
       "    <tr>\n",
       "      <th>0</th>\n",
       "      <td>0.515465</td>\n",
       "      <td>-0.968030</td>\n",
       "      <td>0.250611</td>\n",
       "      <td>0.279851</td>\n",
       "      <td>0.452152</td>\n",
       "      <td>0</td>\n",
       "      <td>1</td>\n",
       "      <td>1</td>\n",
       "      <td>0</td>\n",
       "      <td>1</td>\n",
       "      <td>0</td>\n",
       "      <td>0</td>\n",
       "      <td>0</td>\n",
       "      <td>1</td>\n",
       "      <td>0</td>\n",
       "      <td>1</td>\n",
       "      <td>0</td>\n",
       "      <td>0</td>\n",
       "      <td>0</td>\n",
       "      <td>1</td>\n",
       "    </tr>\n",
       "    <tr>\n",
       "      <th>1</th>\n",
       "      <td>0.393196</td>\n",
       "      <td>0.374420</td>\n",
       "      <td>-0.020225</td>\n",
       "      <td>0.279851</td>\n",
       "      <td>0.452152</td>\n",
       "      <td>0</td>\n",
       "      <td>1</td>\n",
       "      <td>0</td>\n",
       "      <td>1</td>\n",
       "      <td>0</td>\n",
       "      <td>1</td>\n",
       "      <td>0</td>\n",
       "      <td>0</td>\n",
       "      <td>1</td>\n",
       "      <td>0</td>\n",
       "      <td>1</td>\n",
       "      <td>0</td>\n",
       "      <td>1</td>\n",
       "      <td>0</td>\n",
       "      <td>0</td>\n",
       "    </tr>\n",
       "    <tr>\n",
       "      <th>2</th>\n",
       "      <td>-0.519896</td>\n",
       "      <td>-0.968030</td>\n",
       "      <td>-1.355202</td>\n",
       "      <td>0.279851</td>\n",
       "      <td>0.452152</td>\n",
       "      <td>0</td>\n",
       "      <td>1</td>\n",
       "      <td>0</td>\n",
       "      <td>1</td>\n",
       "      <td>1</td>\n",
       "      <td>0</td>\n",
       "      <td>0</td>\n",
       "      <td>0</td>\n",
       "      <td>1</td>\n",
       "      <td>0</td>\n",
       "      <td>0</td>\n",
       "      <td>1</td>\n",
       "      <td>0</td>\n",
       "      <td>0</td>\n",
       "      <td>1</td>\n",
       "    </tr>\n",
       "    <tr>\n",
       "      <th>3</th>\n",
       "      <td>-0.751980</td>\n",
       "      <td>0.710655</td>\n",
       "      <td>-0.150298</td>\n",
       "      <td>0.279851</td>\n",
       "      <td>0.452152</td>\n",
       "      <td>0</td>\n",
       "      <td>1</td>\n",
       "      <td>0</td>\n",
       "      <td>1</td>\n",
       "      <td>1</td>\n",
       "      <td>0</td>\n",
       "      <td>0</td>\n",
       "      <td>0</td>\n",
       "      <td>0</td>\n",
       "      <td>1</td>\n",
       "      <td>1</td>\n",
       "      <td>0</td>\n",
       "      <td>0</td>\n",
       "      <td>0</td>\n",
       "      <td>1</td>\n",
       "    </tr>\n",
       "    <tr>\n",
       "      <th>4</th>\n",
       "      <td>0.554992</td>\n",
       "      <td>-0.968030</td>\n",
       "      <td>0.174728</td>\n",
       "      <td>0.279851</td>\n",
       "      <td>0.452152</td>\n",
       "      <td>0</td>\n",
       "      <td>1</td>\n",
       "      <td>1</td>\n",
       "      <td>0</td>\n",
       "      <td>1</td>\n",
       "      <td>0</td>\n",
       "      <td>0</td>\n",
       "      <td>0</td>\n",
       "      <td>1</td>\n",
       "      <td>0</td>\n",
       "      <td>1</td>\n",
       "      <td>0</td>\n",
       "      <td>0</td>\n",
       "      <td>0</td>\n",
       "      <td>1</td>\n",
       "    </tr>\n",
       "  </tbody>\n",
       "</table>\n",
       "</div>"
      ],
      "text/plain": [
       "   ApplicantIncome  CoapplicantIncome  LoanAmount  Loan_Amount_Term  \\\n",
       "0         0.515465          -0.968030    0.250611          0.279851   \n",
       "1         0.393196           0.374420   -0.020225          0.279851   \n",
       "2        -0.519896          -0.968030   -1.355202          0.279851   \n",
       "3        -0.751980           0.710655   -0.150298          0.279851   \n",
       "4         0.554992          -0.968030    0.174728          0.279851   \n",
       "\n",
       "   Credit_History  Gender_Female  Gender_Male  Married_No  Married_Yes  \\\n",
       "0        0.452152              0            1           1            0   \n",
       "1        0.452152              0            1           0            1   \n",
       "2        0.452152              0            1           0            1   \n",
       "3        0.452152              0            1           0            1   \n",
       "4        0.452152              0            1           1            0   \n",
       "\n",
       "   Dependents_0  Dependents_1  Dependents_2  Dependents_3  Education_Graduate  \\\n",
       "0             1             0             0             0                   1   \n",
       "1             0             1             0             0                   1   \n",
       "2             1             0             0             0                   1   \n",
       "3             1             0             0             0                   0   \n",
       "4             1             0             0             0                   1   \n",
       "\n",
       "   Education_Not Graduate  Self_Employed_No  Self_Employed_Yes  \\\n",
       "0                       0                 1                  0   \n",
       "1                       0                 1                  0   \n",
       "2                       0                 0                  1   \n",
       "3                       1                 1                  0   \n",
       "4                       0                 1                  0   \n",
       "\n",
       "   Property_Area_Rural  Property_Area_Semiurban  Property_Area_Urban  \n",
       "0                    0                        0                    1  \n",
       "1                    1                        0                    0  \n",
       "2                    0                        0                    1  \n",
       "3                    0                        0                    1  \n",
       "4                    0                        0                    1  "
      ]
     },
     "execution_count": 22,
     "metadata": {},
     "output_type": "execute_result"
    }
   ],
   "source": [
    "X.head()"
   ]
  },
  {
   "cell_type": "code",
   "execution_count": 23,
   "id": "be79f679",
   "metadata": {},
   "outputs": [],
   "source": [
    "from sklearn.preprocessing import LabelEncoder\n",
    "le = LabelEncoder()\n",
    "Y = pd.DataFrame(le.fit_transform(Y),columns=[\"Loan_Status\"])"
   ]
  },
  {
   "cell_type": "code",
   "execution_count": 24,
   "id": "e6f6227c",
   "metadata": {},
   "outputs": [
    {
     "data": {
      "text/html": [
       "<div>\n",
       "<style scoped>\n",
       "    .dataframe tbody tr th:only-of-type {\n",
       "        vertical-align: middle;\n",
       "    }\n",
       "\n",
       "    .dataframe tbody tr th {\n",
       "        vertical-align: top;\n",
       "    }\n",
       "\n",
       "    .dataframe thead th {\n",
       "        text-align: right;\n",
       "    }\n",
       "</style>\n",
       "<table border=\"1\" class=\"dataframe\">\n",
       "  <thead>\n",
       "    <tr style=\"text-align: right;\">\n",
       "      <th></th>\n",
       "      <th>ApplicantIncome</th>\n",
       "      <th>CoapplicantIncome</th>\n",
       "      <th>LoanAmount</th>\n",
       "      <th>Loan_Amount_Term</th>\n",
       "      <th>Credit_History</th>\n",
       "      <th>Gender_Female</th>\n",
       "      <th>Gender_Male</th>\n",
       "      <th>Married_No</th>\n",
       "      <th>Married_Yes</th>\n",
       "      <th>Dependents_0</th>\n",
       "      <th>Dependents_1</th>\n",
       "      <th>Dependents_2</th>\n",
       "      <th>Dependents_3</th>\n",
       "      <th>Education_Graduate</th>\n",
       "      <th>Education_Not Graduate</th>\n",
       "      <th>Self_Employed_No</th>\n",
       "      <th>Self_Employed_Yes</th>\n",
       "      <th>Property_Area_Rural</th>\n",
       "      <th>Property_Area_Semiurban</th>\n",
       "      <th>Property_Area_Urban</th>\n",
       "    </tr>\n",
       "  </thead>\n",
       "  <tbody>\n",
       "    <tr>\n",
       "      <th>0</th>\n",
       "      <td>0.515465</td>\n",
       "      <td>-0.96803</td>\n",
       "      <td>0.250611</td>\n",
       "      <td>0.279851</td>\n",
       "      <td>0.452152</td>\n",
       "      <td>0</td>\n",
       "      <td>1</td>\n",
       "      <td>1</td>\n",
       "      <td>0</td>\n",
       "      <td>1</td>\n",
       "      <td>0</td>\n",
       "      <td>0</td>\n",
       "      <td>0</td>\n",
       "      <td>1</td>\n",
       "      <td>0</td>\n",
       "      <td>1</td>\n",
       "      <td>0</td>\n",
       "      <td>0</td>\n",
       "      <td>0</td>\n",
       "      <td>1</td>\n",
       "    </tr>\n",
       "    <tr>\n",
       "      <th>1</th>\n",
       "      <td>0.393196</td>\n",
       "      <td>0.37442</td>\n",
       "      <td>-0.020225</td>\n",
       "      <td>0.279851</td>\n",
       "      <td>0.452152</td>\n",
       "      <td>0</td>\n",
       "      <td>1</td>\n",
       "      <td>0</td>\n",
       "      <td>1</td>\n",
       "      <td>0</td>\n",
       "      <td>1</td>\n",
       "      <td>0</td>\n",
       "      <td>0</td>\n",
       "      <td>1</td>\n",
       "      <td>0</td>\n",
       "      <td>1</td>\n",
       "      <td>0</td>\n",
       "      <td>1</td>\n",
       "      <td>0</td>\n",
       "      <td>0</td>\n",
       "    </tr>\n",
       "    <tr>\n",
       "      <th>2</th>\n",
       "      <td>-0.519896</td>\n",
       "      <td>-0.96803</td>\n",
       "      <td>-1.355202</td>\n",
       "      <td>0.279851</td>\n",
       "      <td>0.452152</td>\n",
       "      <td>0</td>\n",
       "      <td>1</td>\n",
       "      <td>0</td>\n",
       "      <td>1</td>\n",
       "      <td>1</td>\n",
       "      <td>0</td>\n",
       "      <td>0</td>\n",
       "      <td>0</td>\n",
       "      <td>1</td>\n",
       "      <td>0</td>\n",
       "      <td>0</td>\n",
       "      <td>1</td>\n",
       "      <td>0</td>\n",
       "      <td>0</td>\n",
       "      <td>1</td>\n",
       "    </tr>\n",
       "  </tbody>\n",
       "</table>\n",
       "</div>"
      ],
      "text/plain": [
       "   ApplicantIncome  CoapplicantIncome  LoanAmount  Loan_Amount_Term  \\\n",
       "0         0.515465           -0.96803    0.250611          0.279851   \n",
       "1         0.393196            0.37442   -0.020225          0.279851   \n",
       "2        -0.519896           -0.96803   -1.355202          0.279851   \n",
       "\n",
       "   Credit_History  Gender_Female  Gender_Male  Married_No  Married_Yes  \\\n",
       "0        0.452152              0            1           1            0   \n",
       "1        0.452152              0            1           0            1   \n",
       "2        0.452152              0            1           0            1   \n",
       "\n",
       "   Dependents_0  Dependents_1  Dependents_2  Dependents_3  Education_Graduate  \\\n",
       "0             1             0             0             0                   1   \n",
       "1             0             1             0             0                   1   \n",
       "2             1             0             0             0                   1   \n",
       "\n",
       "   Education_Not Graduate  Self_Employed_No  Self_Employed_Yes  \\\n",
       "0                       0                 1                  0   \n",
       "1                       0                 1                  0   \n",
       "2                       0                 0                  1   \n",
       "\n",
       "   Property_Area_Rural  Property_Area_Semiurban  Property_Area_Urban  \n",
       "0                    0                        0                    1  \n",
       "1                    1                        0                    0  \n",
       "2                    0                        0                    1  "
      ]
     },
     "execution_count": 24,
     "metadata": {},
     "output_type": "execute_result"
    }
   ],
   "source": [
    "X.head(3)"
   ]
  },
  {
   "cell_type": "code",
   "execution_count": 25,
   "id": "d691679b",
   "metadata": {},
   "outputs": [
    {
     "data": {
      "text/html": [
       "<div>\n",
       "<style scoped>\n",
       "    .dataframe tbody tr th:only-of-type {\n",
       "        vertical-align: middle;\n",
       "    }\n",
       "\n",
       "    .dataframe tbody tr th {\n",
       "        vertical-align: top;\n",
       "    }\n",
       "\n",
       "    .dataframe thead th {\n",
       "        text-align: right;\n",
       "    }\n",
       "</style>\n",
       "<table border=\"1\" class=\"dataframe\">\n",
       "  <thead>\n",
       "    <tr style=\"text-align: right;\">\n",
       "      <th></th>\n",
       "      <th>Loan_Status</th>\n",
       "    </tr>\n",
       "  </thead>\n",
       "  <tbody>\n",
       "    <tr>\n",
       "      <th>0</th>\n",
       "      <td>1</td>\n",
       "    </tr>\n",
       "    <tr>\n",
       "      <th>1</th>\n",
       "      <td>0</td>\n",
       "    </tr>\n",
       "    <tr>\n",
       "      <th>2</th>\n",
       "      <td>1</td>\n",
       "    </tr>\n",
       "  </tbody>\n",
       "</table>\n",
       "</div>"
      ],
      "text/plain": [
       "   Loan_Status\n",
       "0            1\n",
       "1            0\n",
       "2            1"
      ]
     },
     "execution_count": 25,
     "metadata": {},
     "output_type": "execute_result"
    }
   ],
   "source": [
    "Y.head(3)"
   ]
  },
  {
   "cell_type": "markdown",
   "id": "1db599db",
   "metadata": {},
   "source": [
    "# Divide X and Y into training and testing"
   ]
  },
  {
   "cell_type": "code",
   "execution_count": 26,
   "id": "a9909a7c",
   "metadata": {},
   "outputs": [],
   "source": [
    "from sklearn.model_selection import train_test_split\n",
    "xtrain,xtest,ytrain,ytest = train_test_split(X,Y,test_size=0.2,random_state=32)"
   ]
  },
  {
   "cell_type": "markdown",
   "id": "518e43f6",
   "metadata": {},
   "source": [
    "# Creating ML Models and choose one of the best"
   ]
  },
  {
   "cell_type": "markdown",
   "id": "8baa6ce3",
   "metadata": {},
   "source": [
    "# 1) Logistic Classifier Model"
   ]
  },
  {
   "cell_type": "code",
   "execution_count": 27,
   "id": "a0cf624b",
   "metadata": {},
   "outputs": [],
   "source": [
    "from sklearn.linear_model import LogisticRegression\n",
    "\n",
    "lr = LogisticRegression()\n",
    "lr_model = lr.fit(xtrain,ytrain)"
   ]
  },
  {
   "cell_type": "markdown",
   "id": "540b9854",
   "metadata": {},
   "source": [
    "# Calculating train and test error"
   ]
  },
  {
   "cell_type": "code",
   "execution_count": 28,
   "id": "db69b5ec",
   "metadata": {},
   "outputs": [
    {
     "name": "stdout",
     "output_type": "stream",
     "text": [
      "Logistic Model Train Accuracy:  0.8187\n",
      "Logistic Model Test Accuracy:  0.7805\n"
     ]
    }
   ],
   "source": [
    "from sklearn.metrics import accuracy_score\n",
    "\n",
    "pred_tr_lrmodel = lr_model.predict(xtrain)\n",
    "acc_tr_lrmodel = round(accuracy_score(ytrain,pred_tr_lrmodel),4)\n",
    "print(\"Logistic Model Train Accuracy: \",acc_tr_lrmodel)\n",
    "\n",
    "pred_ts_lrmodel = lr_model.predict(xtest)\n",
    "acc_ts_lrmodel = round(accuracy_score(ytest,pred_ts_lrmodel),4)\n",
    "print(\"Logistic Model Test Accuracy: \",acc_ts_lrmodel)"
   ]
  },
  {
   "cell_type": "markdown",
   "id": "bf21c065",
   "metadata": {},
   "source": [
    "# 2) Naive Bayes Model"
   ]
  },
  {
   "cell_type": "code",
   "execution_count": 29,
   "id": "33a8d080",
   "metadata": {},
   "outputs": [],
   "source": [
    "from sklearn.naive_bayes import GaussianNB\n",
    "\n",
    "nb = GaussianNB()\n",
    "nb_model = nb.fit(xtrain,ytrain)"
   ]
  },
  {
   "cell_type": "markdown",
   "id": "fc4ac7e2",
   "metadata": {},
   "source": [
    "# Calculating train and test error"
   ]
  },
  {
   "cell_type": "code",
   "execution_count": 30,
   "id": "40401af0",
   "metadata": {},
   "outputs": [
    {
     "name": "stdout",
     "output_type": "stream",
     "text": [
      "Naive Bayes Model Train Accuracy :  0.8106\n",
      "Naive Bayes Model Test Accuracy:  0.7886\n"
     ]
    }
   ],
   "source": [
    "pred_tr_nbmodel = nb_model.predict(xtrain)\n",
    "acc_tr_nbmodel = round(accuracy_score(ytrain,pred_tr_nbmodel),4)\n",
    "print(\"Naive Bayes Model Train Accuracy : \",acc_tr_nbmodel)\n",
    "\n",
    "pred_ts_nbmodel = nb_model.predict(xtest)\n",
    "acc_ts_nbmodel = round(accuracy_score(ytest,pred_ts_nbmodel),4)\n",
    "print(\"Naive Bayes Model Test Accuracy: \",acc_ts_nbmodel)"
   ]
  },
  {
   "cell_type": "markdown",
   "id": "1d688d0c",
   "metadata": {},
   "source": [
    "# 3) Decision Tree"
   ]
  },
  {
   "cell_type": "code",
   "execution_count": 31,
   "id": "7769e7a0",
   "metadata": {},
   "outputs": [],
   "source": [
    "from sklearn.tree import DecisionTreeClassifier\n",
    "\n",
    "dtr_model = DecisionTreeClassifier(random_state=32)\n",
    "model = dtr_model.fit(xtrain,ytrain)"
   ]
  },
  {
   "cell_type": "markdown",
   "id": "af14e371",
   "metadata": {},
   "source": [
    "# Calculating train and test error"
   ]
  },
  {
   "cell_type": "code",
   "execution_count": 32,
   "id": "d440ecdc",
   "metadata": {},
   "outputs": [
    {
     "name": "stdout",
     "output_type": "stream",
     "text": [
      "Decision Tree Model Train Accuracy:  1.0\n",
      "Decision Tree Model Test Accuracy:  0.6992\n"
     ]
    }
   ],
   "source": [
    "pred_tr_dtrmodel = model.predict(xtrain)\n",
    "acc_tr_dtrmodel = round(accuracy_score(ytrain,pred_tr_dtrmodel),4)\n",
    "print(\"Decision Tree Model Train Accuracy: \",acc_tr_dtrmodel)\n",
    "\n",
    "pred_ts_dtrmodel = model.predict(xtest)\n",
    "acc_ts_dtrmodel = round(accuracy_score(ytest,pred_ts_dtrmodel),4)\n",
    "print(\"Decision Tree Model Test Accuracy: \",acc_ts_dtrmodel)"
   ]
  },
  {
   "cell_type": "markdown",
   "id": "ac2936f9",
   "metadata": {},
   "source": [
    "# 4) Random Forest Model"
   ]
  },
  {
   "cell_type": "markdown",
   "id": "673443bb",
   "metadata": {},
   "source": [
    "# Finding best value for n Estimators, max depth using GridSearchCV"
   ]
  },
  {
   "cell_type": "code",
   "execution_count": 33,
   "id": "470530a4",
   "metadata": {},
   "outputs": [
    {
     "data": {
      "text/plain": [
       "{'max_depth': 2, 'n_estimators': 4}"
      ]
     },
     "execution_count": 33,
     "metadata": {},
     "output_type": "execute_result"
    }
   ],
   "source": [
    "from sklearn.ensemble import RandomForestClassifier\n",
    "from sklearn.model_selection import GridSearchCV\n",
    "\n",
    "tg = {\"max_depth\":range(2,15,1),\"n_estimators\":range(2,15,1)}\n",
    "rfr = RandomForestClassifier(random_state=21)\n",
    "cv = GridSearchCV(rfr,tg,scoring=\"accuracy\",cv=4)\n",
    "cvmodel = cv.fit(xtrain,ytrain)\n",
    "cvmodel.best_params_"
   ]
  },
  {
   "cell_type": "markdown",
   "id": "3a0d2271",
   "metadata": {},
   "source": [
    "# Creating Random Forest Model"
   ]
  },
  {
   "cell_type": "code",
   "execution_count": 34,
   "id": "f5845e47",
   "metadata": {},
   "outputs": [],
   "source": [
    "rfr2 = RandomForestClassifier(n_estimators=4, random_state=21, max_depth=2)\n",
    "model_rfr = rfr2.fit(xtrain,ytrain)"
   ]
  },
  {
   "cell_type": "markdown",
   "id": "f907bd41",
   "metadata": {},
   "source": [
    "# Calculating train and test error"
   ]
  },
  {
   "cell_type": "code",
   "execution_count": 35,
   "id": "f2721942",
   "metadata": {},
   "outputs": [
    {
     "name": "stdout",
     "output_type": "stream",
     "text": [
      "Random Forest Model Train Accuracy:  0.8147\n",
      "Decision Tree Model Test Accuracy:  0.7967\n"
     ]
    }
   ],
   "source": [
    "pred_tr_rfrmodel = model_rfr.predict(xtrain)\n",
    "acc_tr_rfrmodel = round(accuracy_score(ytrain,pred_tr_rfrmodel),4)\n",
    "print(\"Random Forest Model Train Accuracy: \",acc_tr_rfrmodel)\n",
    "\n",
    "pred_ts_rfrmodel = model_rfr.predict(xtest)\n",
    "acc_ts_rfrmodel = round(accuracy_score(ytest,pred_ts_rfrmodel),4)\n",
    "print(\"Decision Tree Model Test Accuracy: \",acc_ts_rfrmodel)"
   ]
  },
  {
   "cell_type": "markdown",
   "id": "b5bf73c9",
   "metadata": {},
   "source": [
    "# 5) Adaboost Model"
   ]
  },
  {
   "cell_type": "markdown",
   "id": "5f60232c",
   "metadata": {},
   "source": [
    "# Finding best value for n Estimators, max depth using GridSearchCV"
   ]
  },
  {
   "cell_type": "code",
   "execution_count": 36,
   "id": "7f3285e1",
   "metadata": {},
   "outputs": [
    {
     "data": {
      "text/plain": [
       "{'n_estimators': 2}"
      ]
     },
     "execution_count": 36,
     "metadata": {},
     "output_type": "execute_result"
    }
   ],
   "source": [
    "from sklearn.ensemble import AdaBoostClassifier\n",
    "from sklearn.tree import DecisionTreeClassifier\n",
    "from sklearn.model_selection import GridSearchCV\n",
    "\n",
    "tg = {\"n_estimators\":range(2,15,1)}\n",
    "abm = AdaBoostClassifier(DecisionTreeClassifier(random_state=21,max_depth=2),random_state=21)\n",
    "cv = GridSearchCV(abm,tg,scoring=\"accuracy\",cv=4)\n",
    "cvmodel = cv.fit(xtrain,ytrain)\n",
    "cvmodel.best_params_"
   ]
  },
  {
   "cell_type": "markdown",
   "id": "a51581ec",
   "metadata": {},
   "source": [
    "# Creating Adaboost Model"
   ]
  },
  {
   "cell_type": "code",
   "execution_count": 37,
   "id": "abf30f7f",
   "metadata": {},
   "outputs": [],
   "source": [
    "boost = AdaBoostClassifier(DecisionTreeClassifier(random_state=21,max_depth=2),n_estimators=2,random_state=21)\n",
    "model_abm = boost.fit(xtrain,ytrain)"
   ]
  },
  {
   "cell_type": "markdown",
   "id": "fd490ead",
   "metadata": {},
   "source": [
    "# Calculating train and test error "
   ]
  },
  {
   "cell_type": "code",
   "execution_count": 38,
   "id": "e3b2d4da",
   "metadata": {},
   "outputs": [
    {
     "name": "stdout",
     "output_type": "stream",
     "text": [
      "Adaboost Model Train Accuracy:  0.8228\n",
      "Adaboost Model Test Accuracy:  0.7805\n"
     ]
    }
   ],
   "source": [
    "pred_tr_abmmodel = model_abm.predict(xtrain)\n",
    "acc_tr_abmmodel = round(accuracy_score(ytrain,pred_tr_abmmodel),4)\n",
    "print(\"Adaboost Model Train Accuracy: \",acc_tr_abmmodel)\n",
    "\n",
    "pred_ts_abmmodel = model_abm.predict(xtest)\n",
    "acc_ts_abmmodel = round(accuracy_score(ytest,pred_ts_abmmodel),4)\n",
    "print(\"Adaboost Model Test Accuracy: \",acc_ts_abmmodel)"
   ]
  },
  {
   "cell_type": "markdown",
   "id": "ae73e0a3",
   "metadata": {},
   "source": [
    "# 6) KNN Model"
   ]
  },
  {
   "cell_type": "markdown",
   "id": "cbe378b1",
   "metadata": {},
   "source": [
    "# Finding best value for n neighbors using GridSearchCV"
   ]
  },
  {
   "cell_type": "code",
   "execution_count": 39,
   "id": "6f7d83c5",
   "metadata": {},
   "outputs": [
    {
     "data": {
      "text/plain": [
       "{'n_neighbors': 13}"
      ]
     },
     "execution_count": 39,
     "metadata": {},
     "output_type": "execute_result"
    }
   ],
   "source": [
    "from sklearn.neighbors import KNeighborsClassifier\n",
    "\n",
    "tg = {\"n_neighbors\":range(2,15,1)}\n",
    "knn = KNeighborsClassifier()\n",
    "cv = GridSearchCV(knn,tg,scoring=\"accuracy\",cv=4)\n",
    "cvmodel = cv.fit(xtrain,ytrain)\n",
    "cvmodel.best_params_"
   ]
  },
  {
   "cell_type": "markdown",
   "id": "0b02a0e2",
   "metadata": {},
   "source": [
    "# Creating KNN Model"
   ]
  },
  {
   "cell_type": "code",
   "execution_count": 40,
   "id": "c49ccbb3",
   "metadata": {},
   "outputs": [],
   "source": [
    "kn = KNeighborsClassifier(n_neighbors=13)\n",
    "knn_model = kn.fit(xtrain,ytrain)"
   ]
  },
  {
   "cell_type": "markdown",
   "id": "06ca77fb",
   "metadata": {},
   "source": [
    "# Calculating train and test error"
   ]
  },
  {
   "cell_type": "code",
   "execution_count": 41,
   "id": "fb3bba96",
   "metadata": {},
   "outputs": [
    {
     "name": "stdout",
     "output_type": "stream",
     "text": [
      "KNN Model Train Accuracy:  0.8147\n",
      "KNN Model Test Accuracy:  0.7886\n"
     ]
    }
   ],
   "source": [
    "pred_tr_knnmodel = knn_model.predict(xtrain)\n",
    "acc_tr_knnmodel = round(accuracy_score(ytrain,pred_tr_knnmodel),4)\n",
    "print(\"KNN Model Train Accuracy: \",acc_tr_knnmodel)\n",
    "\n",
    "pred_ts_knnmodel = knn_model.predict(xtest)\n",
    "acc_ts_knnmodel = round(accuracy_score(ytest,pred_ts_knnmodel),4)\n",
    "print(\"KNN Model Test Accuracy: \",acc_ts_nbmodel)"
   ]
  },
  {
   "cell_type": "markdown",
   "id": "71d10a39",
   "metadata": {},
   "source": [
    "# Naive Bayes Model is the best among all models"
   ]
  },
  {
   "cell_type": "markdown",
   "id": "7d198230",
   "metadata": {},
   "source": [
    "# Train Naive Bayes Model overall trainning data"
   ]
  },
  {
   "cell_type": "code",
   "execution_count": 42,
   "id": "e0a00b99",
   "metadata": {},
   "outputs": [],
   "source": [
    "nb1 = GaussianNB()\n",
    "nb_model_fin = nb1.fit(X,Y)"
   ]
  },
  {
   "cell_type": "markdown",
   "id": "a6d9f231",
   "metadata": {},
   "source": [
    "# Prepare testing data same as trainning data"
   ]
  },
  {
   "cell_type": "code",
   "execution_count": 43,
   "id": "dda6cda2",
   "metadata": {},
   "outputs": [],
   "source": [
    "B = pd.read_csv(\"E:/Data Science/ML Mini Project/testing_set.csv\")"
   ]
  },
  {
   "cell_type": "code",
   "execution_count": 44,
   "id": "442ae3ab",
   "metadata": {},
   "outputs": [],
   "source": [
    "B = B.drop(labels=[\"Loan_ID\"],axis=1)"
   ]
  },
  {
   "cell_type": "code",
   "execution_count": 45,
   "id": "0fad6ff5",
   "metadata": {},
   "outputs": [],
   "source": [
    "replacer(B)"
   ]
  },
  {
   "cell_type": "code",
   "execution_count": 46,
   "id": "225a9870",
   "metadata": {},
   "outputs": [],
   "source": [
    "new_dep_B = []\n",
    "new_dep_B = spe_sym_removal(B)\n",
    "B[[\"Dependents\"]] = new_dep_B"
   ]
  },
  {
   "cell_type": "code",
   "execution_count": 47,
   "id": "fa60281f",
   "metadata": {},
   "outputs": [],
   "source": [
    "test_data1 = B \n",
    "cat,con = cat_con_sep(test_data1)\n",
    "test_data1 = preprocessing_data(test_data1,cat,con)"
   ]
  },
  {
   "cell_type": "markdown",
   "id": "490abe7e",
   "metadata": {},
   "source": [
    "# Predicting Loan Status"
   ]
  },
  {
   "cell_type": "code",
   "execution_count": 48,
   "id": "5e4ccdc6",
   "metadata": {},
   "outputs": [],
   "source": [
    "predicted_LoanStatus = nb_model_fin.predict(test_data1)"
   ]
  },
  {
   "cell_type": "code",
   "execution_count": 49,
   "id": "5670c80a",
   "metadata": {},
   "outputs": [],
   "source": [
    "Loan_Status = le.inverse_transform(predicted_LoanStatus)"
   ]
  },
  {
   "cell_type": "code",
   "execution_count": 50,
   "id": "3b021fa7",
   "metadata": {},
   "outputs": [],
   "source": [
    "B[[\"Loan_Status\"]] = Loan_Status"
   ]
  },
  {
   "cell_type": "code",
   "execution_count": 51,
   "id": "fc5c2c93",
   "metadata": {},
   "outputs": [
    {
     "data": {
      "text/plain": [
       "Y    296\n",
       "N     71\n",
       "Name: Loan_Status, dtype: int64"
      ]
     },
     "execution_count": 51,
     "metadata": {},
     "output_type": "execute_result"
    }
   ],
   "source": [
    "B.Loan_Status.value_counts()"
   ]
  },
  {
   "cell_type": "code",
   "execution_count": 52,
   "id": "93a62333",
   "metadata": {},
   "outputs": [
    {
     "data": {
      "text/html": [
       "<div>\n",
       "<style scoped>\n",
       "    .dataframe tbody tr th:only-of-type {\n",
       "        vertical-align: middle;\n",
       "    }\n",
       "\n",
       "    .dataframe tbody tr th {\n",
       "        vertical-align: top;\n",
       "    }\n",
       "\n",
       "    .dataframe thead th {\n",
       "        text-align: right;\n",
       "    }\n",
       "</style>\n",
       "<table border=\"1\" class=\"dataframe\">\n",
       "  <thead>\n",
       "    <tr style=\"text-align: right;\">\n",
       "      <th></th>\n",
       "      <th>Gender</th>\n",
       "      <th>Married</th>\n",
       "      <th>Dependents</th>\n",
       "      <th>Education</th>\n",
       "      <th>Self_Employed</th>\n",
       "      <th>ApplicantIncome</th>\n",
       "      <th>CoapplicantIncome</th>\n",
       "      <th>LoanAmount</th>\n",
       "      <th>Loan_Amount_Term</th>\n",
       "      <th>Credit_History</th>\n",
       "      <th>Property_Area</th>\n",
       "      <th>Loan_Status</th>\n",
       "    </tr>\n",
       "  </thead>\n",
       "  <tbody>\n",
       "    <tr>\n",
       "      <th>0</th>\n",
       "      <td>Male</td>\n",
       "      <td>Yes</td>\n",
       "      <td>0</td>\n",
       "      <td>Graduate</td>\n",
       "      <td>No</td>\n",
       "      <td>5720</td>\n",
       "      <td>0</td>\n",
       "      <td>110.0</td>\n",
       "      <td>360.0</td>\n",
       "      <td>1.00</td>\n",
       "      <td>Urban</td>\n",
       "      <td>Y</td>\n",
       "    </tr>\n",
       "    <tr>\n",
       "      <th>1</th>\n",
       "      <td>Male</td>\n",
       "      <td>Yes</td>\n",
       "      <td>1</td>\n",
       "      <td>Graduate</td>\n",
       "      <td>No</td>\n",
       "      <td>3076</td>\n",
       "      <td>1500</td>\n",
       "      <td>126.0</td>\n",
       "      <td>360.0</td>\n",
       "      <td>1.00</td>\n",
       "      <td>Urban</td>\n",
       "      <td>Y</td>\n",
       "    </tr>\n",
       "    <tr>\n",
       "      <th>2</th>\n",
       "      <td>Male</td>\n",
       "      <td>Yes</td>\n",
       "      <td>2</td>\n",
       "      <td>Graduate</td>\n",
       "      <td>No</td>\n",
       "      <td>5000</td>\n",
       "      <td>1800</td>\n",
       "      <td>208.0</td>\n",
       "      <td>360.0</td>\n",
       "      <td>1.00</td>\n",
       "      <td>Urban</td>\n",
       "      <td>Y</td>\n",
       "    </tr>\n",
       "    <tr>\n",
       "      <th>3</th>\n",
       "      <td>Male</td>\n",
       "      <td>Yes</td>\n",
       "      <td>2</td>\n",
       "      <td>Graduate</td>\n",
       "      <td>No</td>\n",
       "      <td>2340</td>\n",
       "      <td>2546</td>\n",
       "      <td>100.0</td>\n",
       "      <td>360.0</td>\n",
       "      <td>0.83</td>\n",
       "      <td>Urban</td>\n",
       "      <td>Y</td>\n",
       "    </tr>\n",
       "    <tr>\n",
       "      <th>4</th>\n",
       "      <td>Male</td>\n",
       "      <td>No</td>\n",
       "      <td>0</td>\n",
       "      <td>Not Graduate</td>\n",
       "      <td>No</td>\n",
       "      <td>3276</td>\n",
       "      <td>0</td>\n",
       "      <td>78.0</td>\n",
       "      <td>360.0</td>\n",
       "      <td>1.00</td>\n",
       "      <td>Urban</td>\n",
       "      <td>Y</td>\n",
       "    </tr>\n",
       "  </tbody>\n",
       "</table>\n",
       "</div>"
      ],
      "text/plain": [
       "  Gender Married Dependents     Education Self_Employed  ApplicantIncome  \\\n",
       "0   Male     Yes          0      Graduate            No             5720   \n",
       "1   Male     Yes          1      Graduate            No             3076   \n",
       "2   Male     Yes          2      Graduate            No             5000   \n",
       "3   Male     Yes          2      Graduate            No             2340   \n",
       "4   Male      No          0  Not Graduate            No             3276   \n",
       "\n",
       "   CoapplicantIncome  LoanAmount  Loan_Amount_Term  Credit_History  \\\n",
       "0                  0       110.0             360.0            1.00   \n",
       "1               1500       126.0             360.0            1.00   \n",
       "2               1800       208.0             360.0            1.00   \n",
       "3               2546       100.0             360.0            0.83   \n",
       "4                  0        78.0             360.0            1.00   \n",
       "\n",
       "  Property_Area Loan_Status  \n",
       "0         Urban           Y  \n",
       "1         Urban           Y  \n",
       "2         Urban           Y  \n",
       "3         Urban           Y  \n",
       "4         Urban           Y  "
      ]
     },
     "execution_count": 52,
     "metadata": {},
     "output_type": "execute_result"
    }
   ],
   "source": [
    "B.head()"
   ]
  },
  {
   "cell_type": "markdown",
   "id": "21f28d0c",
   "metadata": {},
   "source": [
    "# 2.Identify customer segments from given data and categorize customer into one of the segments."
   ]
  },
  {
   "cell_type": "code",
   "execution_count": 53,
   "id": "1942dda4",
   "metadata": {},
   "outputs": [],
   "source": [
    "clust_train = A.drop(labels=[\"LoanAmount\",\"Loan_Amount_Term\",\"Loan_Status\"],axis=1)"
   ]
  },
  {
   "cell_type": "markdown",
   "id": "f68111b1",
   "metadata": {},
   "source": [
    "# Data Preprocessing"
   ]
  },
  {
   "cell_type": "code",
   "execution_count": 54,
   "id": "3169e163",
   "metadata": {},
   "outputs": [],
   "source": [
    "cat, con = cat_con_sep(clust_train)"
   ]
  },
  {
   "cell_type": "code",
   "execution_count": 55,
   "id": "b5fe4e7e",
   "metadata": {},
   "outputs": [],
   "source": [
    "clust_train = preprocessing_data(clust_train,cat,con)"
   ]
  },
  {
   "cell_type": "markdown",
   "id": "fdc7053d",
   "metadata": {},
   "source": [
    "# Applying for loop and making Elbow curve for getting best K cluster value"
   ]
  },
  {
   "cell_type": "code",
   "execution_count": 56,
   "id": "852291d8",
   "metadata": {},
   "outputs": [],
   "source": [
    "from sklearn.cluster import KMeans\n",
    "\n",
    "WCSS = []\n",
    "K = range(2,20,1)\n",
    "for i in K:\n",
    "    km_ser = KMeans(n_clusters=i)\n",
    "    model_ser = km_ser.fit(clust_train)\n",
    "    WCSS.append(model_ser.inertia_)"
   ]
  },
  {
   "cell_type": "code",
   "execution_count": 57,
   "id": "86a66d71",
   "metadata": {},
   "outputs": [
    {
     "data": {
      "text/plain": [
       "[2820.526365731642,\n",
       " 2530.502173635071,\n",
       " 2145.2287782116714,\n",
       " 1819.6702745792973,\n",
       " 1694.8087882538737,\n",
       " 1592.8282909219483,\n",
       " 1512.6226865201554,\n",
       " 1436.601359474481,\n",
       " 1363.6428814931126,\n",
       " 1329.0154496493408,\n",
       " 1262.9640592919197,\n",
       " 1232.5727420113042,\n",
       " 1194.0985792497804,\n",
       " 1151.7915249381765,\n",
       " 1107.1932870213675,\n",
       " 1085.6445068499393,\n",
       " 1061.4289752883353,\n",
       " 1023.3761045924675]"
      ]
     },
     "execution_count": 57,
     "metadata": {},
     "output_type": "execute_result"
    }
   ],
   "source": [
    "WCSS"
   ]
  },
  {
   "cell_type": "code",
   "execution_count": 58,
   "id": "d6b1467c",
   "metadata": {},
   "outputs": [
    {
     "data": {
      "text/plain": [
       "Text(0.5, 1.0, 'Elbow curve Data')"
      ]
     },
     "execution_count": 58,
     "metadata": {},
     "output_type": "execute_result"
    },
    {
     "data": {
      "image/png": "[encoded data removed]",
      "text/plain": [
       "<Figure size 432x288 with 1 Axes>"
      ]
     },
     "metadata": {
      "needs_background": "light"
     },
     "output_type": "display_data"
    }
   ],
   "source": [
    "import matplotlib.pyplot as plt\n",
    "\n",
    "plt.scatter(K,WCSS,c=\"red\")\n",
    "plt.plot(K,WCSS,c=\"blue\")\n",
    "plt.xlabel(\"Number of Clusters - K\")\n",
    "plt.ylabel(\"Inertia\")\n",
    "plt.xticks(range(1,20,1))\n",
    "plt.title(\"Elbow curve Data\")"
   ]
  },
  {
   "cell_type": "markdown",
   "id": "22222989",
   "metadata": {},
   "source": [
    "# Create model with best K value"
   ]
  },
  {
   "cell_type": "code",
   "execution_count": 59,
   "id": "77d4b164",
   "metadata": {},
   "outputs": [],
   "source": [
    "km = KMeans(n_clusters=5)\n",
    "model_clust = km.fit(clust_train) "
   ]
  },
  {
   "cell_type": "markdown",
   "id": "401b32f0",
   "metadata": {},
   "source": [
    "# Prepare test data as same as train data"
   ]
  },
  {
   "cell_type": "code",
   "execution_count": 60,
   "id": "bb454d7f",
   "metadata": {},
   "outputs": [],
   "source": [
    "test_data_clst = B.drop(labels=[\"LoanAmount\",\"Loan_Amount_Term\",\"Loan_Status\"],axis=1)"
   ]
  },
  {
   "cell_type": "code",
   "execution_count": 61,
   "id": "f7461c8d",
   "metadata": {},
   "outputs": [],
   "source": [
    "cat, con  = cat_con_sep(test_data_clst)"
   ]
  },
  {
   "cell_type": "code",
   "execution_count": 62,
   "id": "5178f5f4",
   "metadata": {},
   "outputs": [],
   "source": [
    "test_data_clst = preprocessing_data(test_data_clst,cat,con)"
   ]
  },
  {
   "cell_type": "markdown",
   "id": "36d004e5",
   "metadata": {},
   "source": [
    "# Predict clusters of data"
   ]
  },
  {
   "cell_type": "code",
   "execution_count": 63,
   "id": "65fd6b64",
   "metadata": {},
   "outputs": [],
   "source": [
    "cluster = model_clust.predict(test_data_clst)"
   ]
  },
  {
   "cell_type": "code",
   "execution_count": 64,
   "id": "c6006dc7",
   "metadata": {},
   "outputs": [
    {
     "data": {
      "text/plain": [
       "array([3, 3, 3, 3, 0, 3, 0, 4, 3, 0, 0, 3, 0, 4, 0, 0, 3, 3, 3, 0, 3, 0,\n",
       "       0, 0, 3, 2, 3, 3, 3, 0, 0, 3, 0, 3, 3, 4, 3, 3, 0, 0, 3, 0, 3, 0,\n",
       "       0, 3, 3, 0, 0, 3, 3, 3, 3, 3, 3, 4, 0, 3, 4, 3, 3, 3, 0, 4, 3, 3,\n",
       "       4, 4, 3, 4, 0, 0, 3, 3, 3, 0, 3, 0, 3, 3, 4, 1, 4, 3, 4, 3, 3, 0,\n",
       "       0, 0, 3, 3, 3, 3, 4, 3, 3, 3, 3, 3, 0, 4, 3, 3, 0, 3, 4, 3, 3, 3,\n",
       "       0, 3, 0, 3, 3, 0, 0, 4, 4, 4, 0, 3, 3, 4, 4, 0, 4, 3, 0, 3, 3, 0,\n",
       "       3, 0, 0, 3, 3, 3, 0, 0, 4, 3, 4, 1, 3, 0, 0, 4, 3, 0, 0, 3, 0, 4,\n",
       "       3, 0, 3, 3, 0, 3, 0, 4, 0, 0, 0, 4, 4, 3, 4, 3, 0, 3, 3, 4, 4, 3,\n",
       "       3, 0, 3, 3, 3, 3, 3, 3, 3, 3, 3, 3, 3, 3, 3, 0, 4, 4, 3, 0, 4, 3,\n",
       "       4, 3, 3, 3, 3, 3, 0, 3, 3, 3, 0, 0, 0, 4, 3, 0, 3, 3, 3, 3, 3, 3,\n",
       "       3, 3, 3, 0, 4, 0, 3, 3, 0, 4, 2, 0, 3, 0, 3, 4, 4, 2, 3, 0, 0, 4,\n",
       "       3, 4, 0, 4, 3, 3, 3, 0, 4, 3, 0, 3, 3, 4, 3, 3, 3, 0, 3, 3, 0, 3,\n",
       "       3, 0, 4, 0, 4, 0, 3, 0, 1, 4, 4, 3, 3, 0, 4, 1, 0, 3, 0, 0, 3, 3,\n",
       "       3, 0, 0, 3, 3, 3, 0, 4, 3, 3, 0, 0, 3, 3, 3, 4, 0, 3, 3, 0, 3, 3,\n",
       "       3, 3, 0, 4, 0, 3, 0, 3, 3, 4, 0, 0, 3, 3, 3, 0, 3, 4, 3, 3, 3, 3,\n",
       "       3, 3, 3, 3, 3, 0, 0, 3, 3, 4, 3, 0, 3, 3, 0, 3, 4, 0, 3, 3, 3, 2,\n",
       "       3, 3, 4, 3, 3, 0, 3, 0, 3, 3, 3, 3, 0, 3, 0])"
      ]
     },
     "execution_count": 64,
     "metadata": {},
     "output_type": "execute_result"
    }
   ],
   "source": [
    "cluster"
   ]
  },
  {
   "cell_type": "code",
   "execution_count": 65,
   "id": "35e0ea92",
   "metadata": {},
   "outputs": [],
   "source": [
    "E = B.drop(labels=[\"LoanAmount\",\"Loan_Amount_Term\",\"Loan_Status\"],axis=1)"
   ]
  },
  {
   "cell_type": "code",
   "execution_count": 66,
   "id": "b5540d8c",
   "metadata": {},
   "outputs": [],
   "source": [
    "E[\"Cluster\"] = cluster"
   ]
  },
  {
   "cell_type": "code",
   "execution_count": 67,
   "id": "905365ef",
   "metadata": {},
   "outputs": [
    {
     "data": {
      "text/html": [
       "<div>\n",
       "<style scoped>\n",
       "    .dataframe tbody tr th:only-of-type {\n",
       "        vertical-align: middle;\n",
       "    }\n",
       "\n",
       "    .dataframe tbody tr th {\n",
       "        vertical-align: top;\n",
       "    }\n",
       "\n",
       "    .dataframe thead th {\n",
       "        text-align: right;\n",
       "    }\n",
       "</style>\n",
       "<table border=\"1\" class=\"dataframe\">\n",
       "  <thead>\n",
       "    <tr style=\"text-align: right;\">\n",
       "      <th></th>\n",
       "      <th>Gender</th>\n",
       "      <th>Married</th>\n",
       "      <th>Dependents</th>\n",
       "      <th>Education</th>\n",
       "      <th>Self_Employed</th>\n",
       "      <th>ApplicantIncome</th>\n",
       "      <th>CoapplicantIncome</th>\n",
       "      <th>Credit_History</th>\n",
       "      <th>Property_Area</th>\n",
       "      <th>Cluster</th>\n",
       "    </tr>\n",
       "  </thead>\n",
       "  <tbody>\n",
       "    <tr>\n",
       "      <th>0</th>\n",
       "      <td>Male</td>\n",
       "      <td>Yes</td>\n",
       "      <td>0</td>\n",
       "      <td>Graduate</td>\n",
       "      <td>No</td>\n",
       "      <td>5720</td>\n",
       "      <td>0</td>\n",
       "      <td>1.00</td>\n",
       "      <td>Urban</td>\n",
       "      <td>3</td>\n",
       "    </tr>\n",
       "    <tr>\n",
       "      <th>1</th>\n",
       "      <td>Male</td>\n",
       "      <td>Yes</td>\n",
       "      <td>1</td>\n",
       "      <td>Graduate</td>\n",
       "      <td>No</td>\n",
       "      <td>3076</td>\n",
       "      <td>1500</td>\n",
       "      <td>1.00</td>\n",
       "      <td>Urban</td>\n",
       "      <td>3</td>\n",
       "    </tr>\n",
       "    <tr>\n",
       "      <th>2</th>\n",
       "      <td>Male</td>\n",
       "      <td>Yes</td>\n",
       "      <td>2</td>\n",
       "      <td>Graduate</td>\n",
       "      <td>No</td>\n",
       "      <td>5000</td>\n",
       "      <td>1800</td>\n",
       "      <td>1.00</td>\n",
       "      <td>Urban</td>\n",
       "      <td>3</td>\n",
       "    </tr>\n",
       "    <tr>\n",
       "      <th>3</th>\n",
       "      <td>Male</td>\n",
       "      <td>Yes</td>\n",
       "      <td>2</td>\n",
       "      <td>Graduate</td>\n",
       "      <td>No</td>\n",
       "      <td>2340</td>\n",
       "      <td>2546</td>\n",
       "      <td>0.83</td>\n",
       "      <td>Urban</td>\n",
       "      <td>3</td>\n",
       "    </tr>\n",
       "    <tr>\n",
       "      <th>4</th>\n",
       "      <td>Male</td>\n",
       "      <td>No</td>\n",
       "      <td>0</td>\n",
       "      <td>Not Graduate</td>\n",
       "      <td>No</td>\n",
       "      <td>3276</td>\n",
       "      <td>0</td>\n",
       "      <td>1.00</td>\n",
       "      <td>Urban</td>\n",
       "      <td>0</td>\n",
       "    </tr>\n",
       "  </tbody>\n",
       "</table>\n",
       "</div>"
      ],
      "text/plain": [
       "  Gender Married Dependents     Education Self_Employed  ApplicantIncome  \\\n",
       "0   Male     Yes          0      Graduate            No             5720   \n",
       "1   Male     Yes          1      Graduate            No             3076   \n",
       "2   Male     Yes          2      Graduate            No             5000   \n",
       "3   Male     Yes          2      Graduate            No             2340   \n",
       "4   Male      No          0  Not Graduate            No             3276   \n",
       "\n",
       "   CoapplicantIncome  Credit_History Property_Area  Cluster  \n",
       "0                  0            1.00         Urban        3  \n",
       "1               1500            1.00         Urban        3  \n",
       "2               1800            1.00         Urban        3  \n",
       "3               2546            0.83         Urban        3  \n",
       "4                  0            1.00         Urban        0  "
      ]
     },
     "execution_count": 67,
     "metadata": {},
     "output_type": "execute_result"
    }
   ],
   "source": [
    "E.head()"
   ]
  },
  {
   "cell_type": "code",
   "execution_count": 68,
   "id": "30762d55",
   "metadata": {},
   "outputs": [
    {
     "data": {
      "text/plain": [
       "Cluster\n",
       "0    106\n",
       "1      4\n",
       "2      4\n",
       "3    195\n",
       "4     58\n",
       "Name: Cluster, dtype: int64"
      ]
     },
     "execution_count": 68,
     "metadata": {},
     "output_type": "execute_result"
    }
   ],
   "source": [
    "E.groupby(by=\"Cluster\")[\"Cluster\"].count()"
   ]
  },
  {
   "cell_type": "code",
   "execution_count": 69,
   "id": "aa9681a1",
   "metadata": {},
   "outputs": [],
   "source": [
    "cls_name = { \n",
    "    0:\"Good Credit History\",\n",
    "    1:\"Good Income and Credit history\",\n",
    "    2:\"Bad Credit History\",\n",
    "    3:\"Highest Coapplicant Income\",\n",
    "    4:\"Highest Applicant Income\"\n",
    "}"
   ]
  },
  {
   "cell_type": "code",
   "execution_count": 70,
   "id": "d7e03c50",
   "metadata": {},
   "outputs": [],
   "source": [
    "tag_clu = []\n",
    "for i in E.Cluster:\n",
    "    tag_clu.append(cls_name[i])\n",
    "    \n",
    "E[\"Customer Segmentation\"] = tag_clu"
   ]
  },
  {
   "cell_type": "code",
   "execution_count": 71,
   "id": "d0e84352",
   "metadata": {},
   "outputs": [
    {
     "data": {
      "text/html": [
       "<div>\n",
       "<style scoped>\n",
       "    .dataframe tbody tr th:only-of-type {\n",
       "        vertical-align: middle;\n",
       "    }\n",
       "\n",
       "    .dataframe tbody tr th {\n",
       "        vertical-align: top;\n",
       "    }\n",
       "\n",
       "    .dataframe thead th {\n",
       "        text-align: right;\n",
       "    }\n",
       "</style>\n",
       "<table border=\"1\" class=\"dataframe\">\n",
       "  <thead>\n",
       "    <tr style=\"text-align: right;\">\n",
       "      <th></th>\n",
       "      <th>Gender</th>\n",
       "      <th>Married</th>\n",
       "      <th>Dependents</th>\n",
       "      <th>Education</th>\n",
       "      <th>Self_Employed</th>\n",
       "      <th>ApplicantIncome</th>\n",
       "      <th>CoapplicantIncome</th>\n",
       "      <th>Credit_History</th>\n",
       "      <th>Property_Area</th>\n",
       "      <th>Cluster</th>\n",
       "      <th>Customer Segmentation</th>\n",
       "    </tr>\n",
       "  </thead>\n",
       "  <tbody>\n",
       "    <tr>\n",
       "      <th>0</th>\n",
       "      <td>Male</td>\n",
       "      <td>Yes</td>\n",
       "      <td>0</td>\n",
       "      <td>Graduate</td>\n",
       "      <td>No</td>\n",
       "      <td>5720</td>\n",
       "      <td>0</td>\n",
       "      <td>1.00</td>\n",
       "      <td>Urban</td>\n",
       "      <td>3</td>\n",
       "      <td>Highest Coapplicant Income</td>\n",
       "    </tr>\n",
       "    <tr>\n",
       "      <th>1</th>\n",
       "      <td>Male</td>\n",
       "      <td>Yes</td>\n",
       "      <td>1</td>\n",
       "      <td>Graduate</td>\n",
       "      <td>No</td>\n",
       "      <td>3076</td>\n",
       "      <td>1500</td>\n",
       "      <td>1.00</td>\n",
       "      <td>Urban</td>\n",
       "      <td>3</td>\n",
       "      <td>Highest Coapplicant Income</td>\n",
       "    </tr>\n",
       "    <tr>\n",
       "      <th>2</th>\n",
       "      <td>Male</td>\n",
       "      <td>Yes</td>\n",
       "      <td>2</td>\n",
       "      <td>Graduate</td>\n",
       "      <td>No</td>\n",
       "      <td>5000</td>\n",
       "      <td>1800</td>\n",
       "      <td>1.00</td>\n",
       "      <td>Urban</td>\n",
       "      <td>3</td>\n",
       "      <td>Highest Coapplicant Income</td>\n",
       "    </tr>\n",
       "    <tr>\n",
       "      <th>3</th>\n",
       "      <td>Male</td>\n",
       "      <td>Yes</td>\n",
       "      <td>2</td>\n",
       "      <td>Graduate</td>\n",
       "      <td>No</td>\n",
       "      <td>2340</td>\n",
       "      <td>2546</td>\n",
       "      <td>0.83</td>\n",
       "      <td>Urban</td>\n",
       "      <td>3</td>\n",
       "      <td>Highest Coapplicant Income</td>\n",
       "    </tr>\n",
       "    <tr>\n",
       "      <th>4</th>\n",
       "      <td>Male</td>\n",
       "      <td>No</td>\n",
       "      <td>0</td>\n",
       "      <td>Not Graduate</td>\n",
       "      <td>No</td>\n",
       "      <td>3276</td>\n",
       "      <td>0</td>\n",
       "      <td>1.00</td>\n",
       "      <td>Urban</td>\n",
       "      <td>0</td>\n",
       "      <td>Good Credit History</td>\n",
       "    </tr>\n",
       "  </tbody>\n",
       "</table>\n",
       "</div>"
      ],
      "text/plain": [
       "  Gender Married Dependents     Education Self_Employed  ApplicantIncome  \\\n",
       "0   Male     Yes          0      Graduate            No             5720   \n",
       "1   Male     Yes          1      Graduate            No             3076   \n",
       "2   Male     Yes          2      Graduate            No             5000   \n",
       "3   Male     Yes          2      Graduate            No             2340   \n",
       "4   Male      No          0  Not Graduate            No             3276   \n",
       "\n",
       "   CoapplicantIncome  Credit_History Property_Area  Cluster  \\\n",
       "0                  0            1.00         Urban        3   \n",
       "1               1500            1.00         Urban        3   \n",
       "2               1800            1.00         Urban        3   \n",
       "3               2546            0.83         Urban        3   \n",
       "4                  0            1.00         Urban        0   \n",
       "\n",
       "        Customer Segmentation  \n",
       "0  Highest Coapplicant Income  \n",
       "1  Highest Coapplicant Income  \n",
       "2  Highest Coapplicant Income  \n",
       "3  Highest Coapplicant Income  \n",
       "4         Good Credit History  "
      ]
     },
     "execution_count": 71,
     "metadata": {},
     "output_type": "execute_result"
    }
   ],
   "source": [
    "E.head()"
   ]
  },
  {
   "cell_type": "markdown",
   "id": "31873e80",
   "metadata": {},
   "source": [
    "# 3. If customer is not eligible for the input required amount and duration:"
   ]
  },
  {
   "cell_type": "markdown",
   "id": "e0a1e4a0",
   "metadata": {},
   "source": [
    "# a. what can be amount for the given duration."
   ]
  },
  {
   "cell_type": "markdown",
   "id": "a0fea6ec",
   "metadata": {},
   "source": [
    "# Get data which have Loan_Status is yes"
   ]
  },
  {
   "cell_type": "code",
   "execution_count": 72,
   "id": "6a54dcc4",
   "metadata": {},
   "outputs": [],
   "source": [
    "train_data1 = A[A[\"Loan_Status\"]==\"Y\"]"
   ]
  },
  {
   "cell_type": "markdown",
   "id": "70ad2b98",
   "metadata": {},
   "source": [
    "# Indexing properly"
   ]
  },
  {
   "cell_type": "code",
   "execution_count": 73,
   "id": "3824eee2",
   "metadata": {},
   "outputs": [],
   "source": [
    "len_train_data1 = train_data1.shape[0]\n",
    "train_data1.index = range(0,len_train_data1,1)"
   ]
  },
  {
   "cell_type": "markdown",
   "id": "a5e269ab",
   "metadata": {},
   "source": [
    "# Remove Unwanted column"
   ]
  },
  {
   "cell_type": "code",
   "execution_count": 74,
   "id": "9fe2be6f",
   "metadata": {},
   "outputs": [],
   "source": [
    "train_data1 = train_data1.drop(labels=\"Loan_Status\",axis=1)"
   ]
  },
  {
   "cell_type": "markdown",
   "id": "782b36b5",
   "metadata": {},
   "source": [
    "# Declare X and Y"
   ]
  },
  {
   "cell_type": "code",
   "execution_count": 75,
   "id": "5cca4f80",
   "metadata": {},
   "outputs": [],
   "source": [
    "X = train_data1.drop(labels=\"LoanAmount\",axis=1)\n",
    "Y = train_data1[[\"LoanAmount\"]]"
   ]
  },
  {
   "cell_type": "markdown",
   "id": "1bea1307",
   "metadata": {},
   "source": [
    "# EDA"
   ]
  },
  {
   "cell_type": "markdown",
   "id": "e9cad6d9",
   "metadata": {},
   "source": [
    "# 1)Unvariant"
   ]
  },
  {
   "cell_type": "code",
   "execution_count": 76,
   "id": "0bf13eb2",
   "metadata": {},
   "outputs": [
    {
     "data": {
      "image/png": "[encoded data removed]",
      "text/plain": [
       "<Figure size 1440x2880 with 10 Axes>"
      ]
     },
     "metadata": {
      "needs_background": "light"
     },
     "output_type": "display_data"
    }
   ],
   "source": [
    "import matplotlib.pyplot as pt\n",
    "pt.figure(figsize=(20,40))\n",
    "q = 1\n",
    "for i in X.columns:\n",
    "    if X[i].dtype == \"object\":\n",
    "        pt.subplot(11,3,q)\n",
    "        sb.countplot(X[i])\n",
    "        q = q + 1\n",
    "        \n",
    "    else:\n",
    "        pt.subplot(11,3,q)\n",
    "        sb.distplot(X[i])\n",
    "        q = q + 1"
   ]
  },
  {
   "cell_type": "markdown",
   "id": "5d703b3f",
   "metadata": {},
   "source": [
    "# 2)Bivariant"
   ]
  },
  {
   "cell_type": "code",
   "execution_count": 77,
   "id": "70ad5af2",
   "metadata": {},
   "outputs": [
    {
     "data": {
      "image/png": "[encoded data removed]",
      "text/plain": [
       "<Figure size 1440x2880 with 10 Axes>"
      ]
     },
     "metadata": {
      "needs_background": "light"
     },
     "output_type": "display_data"
    }
   ],
   "source": [
    "import matplotlib.pyplot as pt\n",
    "pt.figure(figsize=(20,40))\n",
    "q = 1\n",
    "for i in X.columns:\n",
    "    if X[i].dtype == \"object\":\n",
    "        pt.subplot(11,3,q)\n",
    "        sb.boxplot(X[i],Y.LoanAmount)\n",
    "        q = q + 1\n",
    "        \n",
    "    else:\n",
    "        pt.subplot(11,3,q)\n",
    "        sb.scatterplot(X[i],Y.LoanAmount)\n",
    "        q = q + 1"
   ]
  },
  {
   "cell_type": "markdown",
   "id": "6dbd5c95",
   "metadata": {},
   "source": [
    "# Data Preprocessing"
   ]
  },
  {
   "cell_type": "code",
   "execution_count": 78,
   "id": "9b917729",
   "metadata": {},
   "outputs": [],
   "source": [
    "cat, con = cat_con_sep(X)"
   ]
  },
  {
   "cell_type": "code",
   "execution_count": 79,
   "id": "f0e463b2",
   "metadata": {},
   "outputs": [
    {
     "data": {
      "text/plain": [
       "ApplicantIncome      5.500304\n",
       "CoapplicantIncome    3.042653\n",
       "Loan_Amount_Term    -2.619580\n",
       "Credit_History      -6.403561\n",
       "dtype: float64"
      ]
     },
     "execution_count": 79,
     "metadata": {},
     "output_type": "execute_result"
    }
   ],
   "source": [
    "X[con].skew()"
   ]
  },
  {
   "cell_type": "code",
   "execution_count": 80,
   "id": "ec14bcb9",
   "metadata": {},
   "outputs": [],
   "source": [
    "from numpy import log, sqrt\n",
    "X.ApplicantIncome = log(X.ApplicantIncome)\n",
    "X.CoapplicantIncome = sqrt(X.CoapplicantIncome)"
   ]
  },
  {
   "cell_type": "code",
   "execution_count": 81,
   "id": "48081c98",
   "metadata": {},
   "outputs": [
    {
     "data": {
      "text/plain": [
       "ApplicantIncome      0.694509\n",
       "CoapplicantIncome    0.351333\n",
       "Loan_Amount_Term    -2.619580\n",
       "Credit_History      -6.403561\n",
       "dtype: float64"
      ]
     },
     "execution_count": 81,
     "metadata": {},
     "output_type": "execute_result"
    }
   ],
   "source": [
    "X[con].skew()"
   ]
  },
  {
   "cell_type": "code",
   "execution_count": 82,
   "id": "0d1de524",
   "metadata": {},
   "outputs": [],
   "source": [
    "X = preprocessing_data(X,cat,con)"
   ]
  },
  {
   "cell_type": "markdown",
   "id": "a7884975",
   "metadata": {},
   "source": [
    "# Divide X and Y into training and testing data"
   ]
  },
  {
   "cell_type": "code",
   "execution_count": 83,
   "id": "d5fec768",
   "metadata": {},
   "outputs": [],
   "source": [
    "xtrain,xtest,ytrain,ytest = train_test_split(X,Y,test_size=0.2,random_state=32)"
   ]
  },
  {
   "cell_type": "markdown",
   "id": "be838065",
   "metadata": {},
   "source": [
    "# Creating ML Models and choose one of the best"
   ]
  },
  {
   "cell_type": "markdown",
   "id": "d6ca40ca",
   "metadata": {},
   "source": [
    "# 1) Multiple Linear Regressor Model"
   ]
  },
  {
   "cell_type": "code",
   "execution_count": 84,
   "id": "f5ae53f3",
   "metadata": {},
   "outputs": [],
   "source": [
    "from sklearn.linear_model import LinearRegression\n",
    "lm = LinearRegression()\n",
    "lm1_model = lm.fit(xtrain,ytrain)"
   ]
  },
  {
   "cell_type": "markdown",
   "id": "e76e5175",
   "metadata": {},
   "source": [
    "# Calculating train and test error"
   ]
  },
  {
   "cell_type": "code",
   "execution_count": 85,
   "id": "c46e5a60",
   "metadata": {},
   "outputs": [
    {
     "name": "stdout",
     "output_type": "stream",
     "text": [
      "MLR Training MAE:  39.6323\n",
      "MLR Testing MAE:  36.9077\n"
     ]
    }
   ],
   "source": [
    "from sklearn.metrics import mean_absolute_error\n",
    "\n",
    "pred_tr_lm1model = lm1_model.predict(xtrain)\n",
    "err_tr_lm1model = round(mean_absolute_error(ytrain,pred_tr_lm1model),4)\n",
    "print(\"MLR Training MAE: \",err_tr_lm1model)\n",
    "\n",
    "pred_ts_lm1model = lm1_model.predict(xtest)\n",
    "\n",
    "err_ts_lm1model = round(mean_absolute_error(ytest,pred_ts_lm1model),4)\n",
    "print(\"MLR Testing MAE: \",err_ts_lm1model)"
   ]
  },
  {
   "cell_type": "markdown",
   "id": "edd32716",
   "metadata": {},
   "source": [
    "# Check collinearity"
   ]
  },
  {
   "cell_type": "code",
   "execution_count": 86,
   "id": "8d55b373",
   "metadata": {},
   "outputs": [
    {
     "data": {
      "text/html": [
       "<div>\n",
       "<style scoped>\n",
       "    .dataframe tbody tr th:only-of-type {\n",
       "        vertical-align: middle;\n",
       "    }\n",
       "\n",
       "    .dataframe tbody tr th {\n",
       "        vertical-align: top;\n",
       "    }\n",
       "\n",
       "    .dataframe thead th {\n",
       "        text-align: right;\n",
       "    }\n",
       "</style>\n",
       "<table border=\"1\" class=\"dataframe\">\n",
       "  <thead>\n",
       "    <tr style=\"text-align: right;\">\n",
       "      <th></th>\n",
       "      <th>ApplicantIncome</th>\n",
       "      <th>CoapplicantIncome</th>\n",
       "      <th>Loan_Amount_Term</th>\n",
       "      <th>Credit_History</th>\n",
       "      <th>Gender_Female</th>\n",
       "      <th>Gender_Male</th>\n",
       "      <th>Married_No</th>\n",
       "      <th>Married_Yes</th>\n",
       "      <th>Dependents_0</th>\n",
       "      <th>Dependents_1</th>\n",
       "      <th>Dependents_2</th>\n",
       "      <th>Dependents_3</th>\n",
       "      <th>Education_Graduate</th>\n",
       "      <th>Education_Not Graduate</th>\n",
       "      <th>Self_Employed_No</th>\n",
       "      <th>Self_Employed_Yes</th>\n",
       "      <th>Property_Area_Rural</th>\n",
       "      <th>Property_Area_Semiurban</th>\n",
       "      <th>Property_Area_Urban</th>\n",
       "    </tr>\n",
       "  </thead>\n",
       "  <tbody>\n",
       "    <tr>\n",
       "      <th>ApplicantIncome</th>\n",
       "      <td>1.000000</td>\n",
       "      <td>-0.359967</td>\n",
       "      <td>-0.100766</td>\n",
       "      <td>-0.030380</td>\n",
       "      <td>-0.064333</td>\n",
       "      <td>0.064333</td>\n",
       "      <td>-0.026420</td>\n",
       "      <td>0.026420</td>\n",
       "      <td>-0.155161</td>\n",
       "      <td>0.064852</td>\n",
       "      <td>0.019814</td>\n",
       "      <td>0.168624</td>\n",
       "      <td>0.179037</td>\n",
       "      <td>-0.179037</td>\n",
       "      <td>-0.229608</td>\n",
       "      <td>0.229608</td>\n",
       "      <td>-0.020304</td>\n",
       "      <td>-0.010096</td>\n",
       "      <td>0.029926</td>\n",
       "    </tr>\n",
       "    <tr>\n",
       "      <th>CoapplicantIncome</th>\n",
       "      <td>-0.359967</td>\n",
       "      <td>1.000000</td>\n",
       "      <td>0.061589</td>\n",
       "      <td>-0.033890</td>\n",
       "      <td>-0.208240</td>\n",
       "      <td>0.208240</td>\n",
       "      <td>-0.243592</td>\n",
       "      <td>0.243592</td>\n",
       "      <td>0.040999</td>\n",
       "      <td>-0.040114</td>\n",
       "      <td>0.072589</td>\n",
       "      <td>-0.124854</td>\n",
       "      <td>0.000261</td>\n",
       "      <td>-0.000261</td>\n",
       "      <td>0.072563</td>\n",
       "      <td>-0.072563</td>\n",
       "      <td>0.088023</td>\n",
       "      <td>-0.014162</td>\n",
       "      <td>-0.068110</td>\n",
       "    </tr>\n",
       "    <tr>\n",
       "      <th>Loan_Amount_Term</th>\n",
       "      <td>-0.100766</td>\n",
       "      <td>0.061589</td>\n",
       "      <td>1.000000</td>\n",
       "      <td>0.069171</td>\n",
       "      <td>0.085819</td>\n",
       "      <td>-0.085819</td>\n",
       "      <td>0.104130</td>\n",
       "      <td>-0.104130</td>\n",
       "      <td>0.081389</td>\n",
       "      <td>-0.042534</td>\n",
       "      <td>-0.031030</td>\n",
       "      <td>-0.047392</td>\n",
       "      <td>0.040525</td>\n",
       "      <td>-0.040525</td>\n",
       "      <td>0.010387</td>\n",
       "      <td>-0.010387</td>\n",
       "      <td>0.043834</td>\n",
       "      <td>0.088347</td>\n",
       "      <td>-0.135402</td>\n",
       "    </tr>\n",
       "    <tr>\n",
       "      <th>Credit_History</th>\n",
       "      <td>-0.030380</td>\n",
       "      <td>-0.033890</td>\n",
       "      <td>0.069171</td>\n",
       "      <td>1.000000</td>\n",
       "      <td>-0.014077</td>\n",
       "      <td>0.014077</td>\n",
       "      <td>-0.012841</td>\n",
       "      <td>0.012841</td>\n",
       "      <td>0.025967</td>\n",
       "      <td>0.002958</td>\n",
       "      <td>0.016910</td>\n",
       "      <td>-0.075854</td>\n",
       "      <td>0.004006</td>\n",
       "      <td>-0.004006</td>\n",
       "      <td>-0.039397</td>\n",
       "      <td>0.039397</td>\n",
       "      <td>-0.009371</td>\n",
       "      <td>-0.010026</td>\n",
       "      <td>0.019520</td>\n",
       "    </tr>\n",
       "    <tr>\n",
       "      <th>Gender_Female</th>\n",
       "      <td>-0.064333</td>\n",
       "      <td>-0.208240</td>\n",
       "      <td>0.085819</td>\n",
       "      <td>-0.014077</td>\n",
       "      <td>1.000000</td>\n",
       "      <td>-1.000000</td>\n",
       "      <td>0.361989</td>\n",
       "      <td>-0.361989</td>\n",
       "      <td>0.152266</td>\n",
       "      <td>0.021676</td>\n",
       "      <td>-0.137232</td>\n",
       "      <td>-0.112321</td>\n",
       "      <td>0.008984</td>\n",
       "      <td>-0.008984</td>\n",
       "      <td>0.017406</td>\n",
       "      <td>-0.017406</td>\n",
       "      <td>-0.078364</td>\n",
       "      <td>0.127774</td>\n",
       "      <td>-0.061876</td>\n",
       "    </tr>\n",
       "    <tr>\n",
       "      <th>Gender_Male</th>\n",
       "      <td>0.064333</td>\n",
       "      <td>0.208240</td>\n",
       "      <td>-0.085819</td>\n",
       "      <td>0.014077</td>\n",
       "      <td>-1.000000</td>\n",
       "      <td>1.000000</td>\n",
       "      <td>-0.361989</td>\n",
       "      <td>0.361989</td>\n",
       "      <td>-0.152266</td>\n",
       "      <td>-0.021676</td>\n",
       "      <td>0.137232</td>\n",
       "      <td>0.112321</td>\n",
       "      <td>-0.008984</td>\n",
       "      <td>0.008984</td>\n",
       "      <td>-0.017406</td>\n",
       "      <td>0.017406</td>\n",
       "      <td>0.078364</td>\n",
       "      <td>-0.127774</td>\n",
       "      <td>0.061876</td>\n",
       "    </tr>\n",
       "    <tr>\n",
       "      <th>Married_No</th>\n",
       "      <td>-0.026420</td>\n",
       "      <td>-0.243592</td>\n",
       "      <td>0.104130</td>\n",
       "      <td>-0.012841</td>\n",
       "      <td>0.361989</td>\n",
       "      <td>-0.361989</td>\n",
       "      <td>1.000000</td>\n",
       "      <td>-1.000000</td>\n",
       "      <td>0.346842</td>\n",
       "      <td>-0.111515</td>\n",
       "      <td>-0.253452</td>\n",
       "      <td>-0.122834</td>\n",
       "      <td>-0.025243</td>\n",
       "      <td>0.025243</td>\n",
       "      <td>0.011734</td>\n",
       "      <td>-0.011734</td>\n",
       "      <td>0.035611</td>\n",
       "      <td>-0.008640</td>\n",
       "      <td>-0.024458</td>\n",
       "    </tr>\n",
       "    <tr>\n",
       "      <th>Married_Yes</th>\n",
       "      <td>0.026420</td>\n",
       "      <td>0.243592</td>\n",
       "      <td>-0.104130</td>\n",
       "      <td>0.012841</td>\n",
       "      <td>-0.361989</td>\n",
       "      <td>0.361989</td>\n",
       "      <td>-1.000000</td>\n",
       "      <td>1.000000</td>\n",
       "      <td>-0.346842</td>\n",
       "      <td>0.111515</td>\n",
       "      <td>0.253452</td>\n",
       "      <td>0.122834</td>\n",
       "      <td>0.025243</td>\n",
       "      <td>-0.025243</td>\n",
       "      <td>-0.011734</td>\n",
       "      <td>0.011734</td>\n",
       "      <td>-0.035611</td>\n",
       "      <td>0.008640</td>\n",
       "      <td>0.024458</td>\n",
       "    </tr>\n",
       "    <tr>\n",
       "      <th>Dependents_0</th>\n",
       "      <td>-0.155161</td>\n",
       "      <td>0.040999</td>\n",
       "      <td>0.081389</td>\n",
       "      <td>0.025967</td>\n",
       "      <td>0.152266</td>\n",
       "      <td>-0.152266</td>\n",
       "      <td>0.346842</td>\n",
       "      <td>-0.346842</td>\n",
       "      <td>1.000000</td>\n",
       "      <td>-0.511536</td>\n",
       "      <td>-0.556799</td>\n",
       "      <td>-0.346028</td>\n",
       "      <td>0.060723</td>\n",
       "      <td>-0.060723</td>\n",
       "      <td>0.067731</td>\n",
       "      <td>-0.067731</td>\n",
       "      <td>0.050576</td>\n",
       "      <td>0.021702</td>\n",
       "      <td>-0.070877</td>\n",
       "    </tr>\n",
       "    <tr>\n",
       "      <th>Dependents_1</th>\n",
       "      <td>0.064852</td>\n",
       "      <td>-0.040114</td>\n",
       "      <td>-0.042534</td>\n",
       "      <td>0.002958</td>\n",
       "      <td>0.021676</td>\n",
       "      <td>-0.021676</td>\n",
       "      <td>-0.111515</td>\n",
       "      <td>0.111515</td>\n",
       "      <td>-0.511536</td>\n",
       "      <td>1.000000</td>\n",
       "      <td>-0.201797</td>\n",
       "      <td>-0.125409</td>\n",
       "      <td>-0.019379</td>\n",
       "      <td>0.019379</td>\n",
       "      <td>-0.023878</td>\n",
       "      <td>0.023878</td>\n",
       "      <td>-0.121915</td>\n",
       "      <td>0.013263</td>\n",
       "      <td>0.101092</td>\n",
       "    </tr>\n",
       "    <tr>\n",
       "      <th>Dependents_2</th>\n",
       "      <td>0.019814</td>\n",
       "      <td>0.072589</td>\n",
       "      <td>-0.031030</td>\n",
       "      <td>0.016910</td>\n",
       "      <td>-0.137232</td>\n",
       "      <td>0.137232</td>\n",
       "      <td>-0.253452</td>\n",
       "      <td>0.253452</td>\n",
       "      <td>-0.556799</td>\n",
       "      <td>-0.201797</td>\n",
       "      <td>1.000000</td>\n",
       "      <td>-0.136506</td>\n",
       "      <td>-0.034790</td>\n",
       "      <td>0.034790</td>\n",
       "      <td>-0.016627</td>\n",
       "      <td>0.016627</td>\n",
       "      <td>-0.011384</td>\n",
       "      <td>-0.015435</td>\n",
       "      <td>0.027177</td>\n",
       "    </tr>\n",
       "    <tr>\n",
       "      <th>Dependents_3</th>\n",
       "      <td>0.168624</td>\n",
       "      <td>-0.124854</td>\n",
       "      <td>-0.047392</td>\n",
       "      <td>-0.075854</td>\n",
       "      <td>-0.112321</td>\n",
       "      <td>0.112321</td>\n",
       "      <td>-0.122834</td>\n",
       "      <td>0.122834</td>\n",
       "      <td>-0.346028</td>\n",
       "      <td>-0.125409</td>\n",
       "      <td>-0.136506</td>\n",
       "      <td>1.000000</td>\n",
       "      <td>-0.035416</td>\n",
       "      <td>0.035416</td>\n",
       "      <td>-0.068185</td>\n",
       "      <td>0.068185</td>\n",
       "      <td>0.088424</td>\n",
       "      <td>-0.035675</td>\n",
       "      <td>-0.045604</td>\n",
       "    </tr>\n",
       "    <tr>\n",
       "      <th>Education_Graduate</th>\n",
       "      <td>0.179037</td>\n",
       "      <td>0.000261</td>\n",
       "      <td>0.040525</td>\n",
       "      <td>0.004006</td>\n",
       "      <td>0.008984</td>\n",
       "      <td>-0.008984</td>\n",
       "      <td>-0.025243</td>\n",
       "      <td>0.025243</td>\n",
       "      <td>0.060723</td>\n",
       "      <td>-0.019379</td>\n",
       "      <td>-0.034790</td>\n",
       "      <td>-0.035416</td>\n",
       "      <td>1.000000</td>\n",
       "      <td>-1.000000</td>\n",
       "      <td>-0.015562</td>\n",
       "      <td>0.015562</td>\n",
       "      <td>-0.063104</td>\n",
       "      <td>-0.002642</td>\n",
       "      <td>0.062440</td>\n",
       "    </tr>\n",
       "    <tr>\n",
       "      <th>Education_Not Graduate</th>\n",
       "      <td>-0.179037</td>\n",
       "      <td>-0.000261</td>\n",
       "      <td>-0.040525</td>\n",
       "      <td>-0.004006</td>\n",
       "      <td>-0.008984</td>\n",
       "      <td>0.008984</td>\n",
       "      <td>0.025243</td>\n",
       "      <td>-0.025243</td>\n",
       "      <td>-0.060723</td>\n",
       "      <td>0.019379</td>\n",
       "      <td>0.034790</td>\n",
       "      <td>0.035416</td>\n",
       "      <td>-1.000000</td>\n",
       "      <td>1.000000</td>\n",
       "      <td>0.015562</td>\n",
       "      <td>-0.015562</td>\n",
       "      <td>0.063104</td>\n",
       "      <td>0.002642</td>\n",
       "      <td>-0.062440</td>\n",
       "    </tr>\n",
       "    <tr>\n",
       "      <th>Self_Employed_No</th>\n",
       "      <td>-0.229608</td>\n",
       "      <td>0.072563</td>\n",
       "      <td>0.010387</td>\n",
       "      <td>-0.039397</td>\n",
       "      <td>0.017406</td>\n",
       "      <td>-0.017406</td>\n",
       "      <td>0.011734</td>\n",
       "      <td>-0.011734</td>\n",
       "      <td>0.067731</td>\n",
       "      <td>-0.023878</td>\n",
       "      <td>-0.016627</td>\n",
       "      <td>-0.068185</td>\n",
       "      <td>-0.015562</td>\n",
       "      <td>0.015562</td>\n",
       "      <td>1.000000</td>\n",
       "      <td>-1.000000</td>\n",
       "      <td>-0.038232</td>\n",
       "      <td>-0.017617</td>\n",
       "      <td>0.054867</td>\n",
       "    </tr>\n",
       "    <tr>\n",
       "      <th>Self_Employed_Yes</th>\n",
       "      <td>0.229608</td>\n",
       "      <td>-0.072563</td>\n",
       "      <td>-0.010387</td>\n",
       "      <td>0.039397</td>\n",
       "      <td>-0.017406</td>\n",
       "      <td>0.017406</td>\n",
       "      <td>-0.011734</td>\n",
       "      <td>0.011734</td>\n",
       "      <td>-0.067731</td>\n",
       "      <td>0.023878</td>\n",
       "      <td>0.016627</td>\n",
       "      <td>0.068185</td>\n",
       "      <td>0.015562</td>\n",
       "      <td>-0.015562</td>\n",
       "      <td>-1.000000</td>\n",
       "      <td>1.000000</td>\n",
       "      <td>0.038232</td>\n",
       "      <td>0.017617</td>\n",
       "      <td>-0.054867</td>\n",
       "    </tr>\n",
       "    <tr>\n",
       "      <th>Property_Area_Rural</th>\n",
       "      <td>-0.020304</td>\n",
       "      <td>0.088023</td>\n",
       "      <td>0.043834</td>\n",
       "      <td>-0.009371</td>\n",
       "      <td>-0.078364</td>\n",
       "      <td>0.078364</td>\n",
       "      <td>0.035611</td>\n",
       "      <td>-0.035611</td>\n",
       "      <td>0.050576</td>\n",
       "      <td>-0.121915</td>\n",
       "      <td>-0.011384</td>\n",
       "      <td>0.088424</td>\n",
       "      <td>-0.063104</td>\n",
       "      <td>0.063104</td>\n",
       "      <td>-0.038232</td>\n",
       "      <td>0.038232</td>\n",
       "      <td>1.000000</td>\n",
       "      <td>-0.509615</td>\n",
       "      <td>-0.402806</td>\n",
       "    </tr>\n",
       "    <tr>\n",
       "      <th>Property_Area_Semiurban</th>\n",
       "      <td>-0.010096</td>\n",
       "      <td>-0.014162</td>\n",
       "      <td>0.088347</td>\n",
       "      <td>-0.010026</td>\n",
       "      <td>0.127774</td>\n",
       "      <td>-0.127774</td>\n",
       "      <td>-0.008640</td>\n",
       "      <td>0.008640</td>\n",
       "      <td>0.021702</td>\n",
       "      <td>0.013263</td>\n",
       "      <td>-0.015435</td>\n",
       "      <td>-0.035675</td>\n",
       "      <td>-0.002642</td>\n",
       "      <td>0.002642</td>\n",
       "      <td>-0.017617</td>\n",
       "      <td>0.017617</td>\n",
       "      <td>-0.509615</td>\n",
       "      <td>1.000000</td>\n",
       "      <td>-0.582238</td>\n",
       "    </tr>\n",
       "    <tr>\n",
       "      <th>Property_Area_Urban</th>\n",
       "      <td>0.029926</td>\n",
       "      <td>-0.068110</td>\n",
       "      <td>-0.135402</td>\n",
       "      <td>0.019520</td>\n",
       "      <td>-0.061876</td>\n",
       "      <td>0.061876</td>\n",
       "      <td>-0.024458</td>\n",
       "      <td>0.024458</td>\n",
       "      <td>-0.070877</td>\n",
       "      <td>0.101092</td>\n",
       "      <td>0.027177</td>\n",
       "      <td>-0.045604</td>\n",
       "      <td>0.062440</td>\n",
       "      <td>-0.062440</td>\n",
       "      <td>0.054867</td>\n",
       "      <td>-0.054867</td>\n",
       "      <td>-0.402806</td>\n",
       "      <td>-0.582238</td>\n",
       "      <td>1.000000</td>\n",
       "    </tr>\n",
       "  </tbody>\n",
       "</table>\n",
       "</div>"
      ],
      "text/plain": [
       "                         ApplicantIncome  CoapplicantIncome  Loan_Amount_Term  \\\n",
       "ApplicantIncome                 1.000000          -0.359967         -0.100766   \n",
       "CoapplicantIncome              -0.359967           1.000000          0.061589   \n",
       "Loan_Amount_Term               -0.100766           0.061589          1.000000   \n",
       "Credit_History                 -0.030380          -0.033890          0.069171   \n",
       "Gender_Female                  -0.064333          -0.208240          0.085819   \n",
       "Gender_Male                     0.064333           0.208240         -0.085819   \n",
       "Married_No                     -0.026420          -0.243592          0.104130   \n",
       "Married_Yes                     0.026420           0.243592         -0.104130   \n",
       "Dependents_0                   -0.155161           0.040999          0.081389   \n",
       "Dependents_1                    0.064852          -0.040114         -0.042534   \n",
       "Dependents_2                    0.019814           0.072589         -0.031030   \n",
       "Dependents_3                    0.168624          -0.124854         -0.047392   \n",
       "Education_Graduate              0.179037           0.000261          0.040525   \n",
       "Education_Not Graduate         -0.179037          -0.000261         -0.040525   \n",
       "Self_Employed_No               -0.229608           0.072563          0.010387   \n",
       "Self_Employed_Yes               0.229608          -0.072563         -0.010387   \n",
       "Property_Area_Rural            -0.020304           0.088023          0.043834   \n",
       "Property_Area_Semiurban        -0.010096          -0.014162          0.088347   \n",
       "Property_Area_Urban             0.029926          -0.068110         -0.135402   \n",
       "\n",
       "                         Credit_History  Gender_Female  Gender_Male  \\\n",
       "ApplicantIncome               -0.030380      -0.064333     0.064333   \n",
       "CoapplicantIncome             -0.033890      -0.208240     0.208240   \n",
       "Loan_Amount_Term               0.069171       0.085819    -0.085819   \n",
       "Credit_History                 1.000000      -0.014077     0.014077   \n",
       "Gender_Female                 -0.014077       1.000000    -1.000000   \n",
       "Gender_Male                    0.014077      -1.000000     1.000000   \n",
       "Married_No                    -0.012841       0.361989    -0.361989   \n",
       "Married_Yes                    0.012841      -0.361989     0.361989   \n",
       "Dependents_0                   0.025967       0.152266    -0.152266   \n",
       "Dependents_1                   0.002958       0.021676    -0.021676   \n",
       "Dependents_2                   0.016910      -0.137232     0.137232   \n",
       "Dependents_3                  -0.075854      -0.112321     0.112321   \n",
       "Education_Graduate             0.004006       0.008984    -0.008984   \n",
       "Education_Not Graduate        -0.004006      -0.008984     0.008984   \n",
       "Self_Employed_No              -0.039397       0.017406    -0.017406   \n",
       "Self_Employed_Yes              0.039397      -0.017406     0.017406   \n",
       "Property_Area_Rural           -0.009371      -0.078364     0.078364   \n",
       "Property_Area_Semiurban       -0.010026       0.127774    -0.127774   \n",
       "Property_Area_Urban            0.019520      -0.061876     0.061876   \n",
       "\n",
       "                         Married_No  Married_Yes  Dependents_0  Dependents_1  \\\n",
       "ApplicantIncome           -0.026420     0.026420     -0.155161      0.064852   \n",
       "CoapplicantIncome         -0.243592     0.243592      0.040999     -0.040114   \n",
       "Loan_Amount_Term           0.104130    -0.104130      0.081389     -0.042534   \n",
       "Credit_History            -0.012841     0.012841      0.025967      0.002958   \n",
       "Gender_Female              0.361989    -0.361989      0.152266      0.021676   \n",
       "Gender_Male               -0.361989     0.361989     -0.152266     -0.021676   \n",
       "Married_No                 1.000000    -1.000000      0.346842     -0.111515   \n",
       "Married_Yes               -1.000000     1.000000     -0.346842      0.111515   \n",
       "Dependents_0               0.346842    -0.346842      1.000000     -0.511536   \n",
       "Dependents_1              -0.111515     0.111515     -0.511536      1.000000   \n",
       "Dependents_2              -0.253452     0.253452     -0.556799     -0.201797   \n",
       "Dependents_3              -0.122834     0.122834     -0.346028     -0.125409   \n",
       "Education_Graduate        -0.025243     0.025243      0.060723     -0.019379   \n",
       "Education_Not Graduate     0.025243    -0.025243     -0.060723      0.019379   \n",
       "Self_Employed_No           0.011734    -0.011734      0.067731     -0.023878   \n",
       "Self_Employed_Yes         -0.011734     0.011734     -0.067731      0.023878   \n",
       "Property_Area_Rural        0.035611    -0.035611      0.050576     -0.121915   \n",
       "Property_Area_Semiurban   -0.008640     0.008640      0.021702      0.013263   \n",
       "Property_Area_Urban       -0.024458     0.024458     -0.070877      0.101092   \n",
       "\n",
       "                         Dependents_2  Dependents_3  Education_Graduate  \\\n",
       "ApplicantIncome              0.019814      0.168624            0.179037   \n",
       "CoapplicantIncome            0.072589     -0.124854            0.000261   \n",
       "Loan_Amount_Term            -0.031030     -0.047392            0.040525   \n",
       "Credit_History               0.016910     -0.075854            0.004006   \n",
       "Gender_Female               -0.137232     -0.112321            0.008984   \n",
       "Gender_Male                  0.137232      0.112321           -0.008984   \n",
       "Married_No                  -0.253452     -0.122834           -0.025243   \n",
       "Married_Yes                  0.253452      0.122834            0.025243   \n",
       "Dependents_0                -0.556799     -0.346028            0.060723   \n",
       "Dependents_1                -0.201797     -0.125409           -0.019379   \n",
       "Dependents_2                 1.000000     -0.136506           -0.034790   \n",
       "Dependents_3                -0.136506      1.000000           -0.035416   \n",
       "Education_Graduate          -0.034790     -0.035416            1.000000   \n",
       "Education_Not Graduate       0.034790      0.035416           -1.000000   \n",
       "Self_Employed_No            -0.016627     -0.068185           -0.015562   \n",
       "Self_Employed_Yes            0.016627      0.068185            0.015562   \n",
       "Property_Area_Rural         -0.011384      0.088424           -0.063104   \n",
       "Property_Area_Semiurban     -0.015435     -0.035675           -0.002642   \n",
       "Property_Area_Urban          0.027177     -0.045604            0.062440   \n",
       "\n",
       "                         Education_Not Graduate  Self_Employed_No  \\\n",
       "ApplicantIncome                       -0.179037         -0.229608   \n",
       "CoapplicantIncome                     -0.000261          0.072563   \n",
       "Loan_Amount_Term                      -0.040525          0.010387   \n",
       "Credit_History                        -0.004006         -0.039397   \n",
       "Gender_Female                         -0.008984          0.017406   \n",
       "Gender_Male                            0.008984         -0.017406   \n",
       "Married_No                             0.025243          0.011734   \n",
       "Married_Yes                           -0.025243         -0.011734   \n",
       "Dependents_0                          -0.060723          0.067731   \n",
       "Dependents_1                           0.019379         -0.023878   \n",
       "Dependents_2                           0.034790         -0.016627   \n",
       "Dependents_3                           0.035416         -0.068185   \n",
       "Education_Graduate                    -1.000000         -0.015562   \n",
       "Education_Not Graduate                 1.000000          0.015562   \n",
       "Self_Employed_No                       0.015562          1.000000   \n",
       "Self_Employed_Yes                     -0.015562         -1.000000   \n",
       "Property_Area_Rural                    0.063104         -0.038232   \n",
       "Property_Area_Semiurban                0.002642         -0.017617   \n",
       "Property_Area_Urban                   -0.062440          0.054867   \n",
       "\n",
       "                         Self_Employed_Yes  Property_Area_Rural  \\\n",
       "ApplicantIncome                   0.229608            -0.020304   \n",
       "CoapplicantIncome                -0.072563             0.088023   \n",
       "Loan_Amount_Term                 -0.010387             0.043834   \n",
       "Credit_History                    0.039397            -0.009371   \n",
       "Gender_Female                    -0.017406            -0.078364   \n",
       "Gender_Male                       0.017406             0.078364   \n",
       "Married_No                       -0.011734             0.035611   \n",
       "Married_Yes                       0.011734            -0.035611   \n",
       "Dependents_0                     -0.067731             0.050576   \n",
       "Dependents_1                      0.023878            -0.121915   \n",
       "Dependents_2                      0.016627            -0.011384   \n",
       "Dependents_3                      0.068185             0.088424   \n",
       "Education_Graduate                0.015562            -0.063104   \n",
       "Education_Not Graduate           -0.015562             0.063104   \n",
       "Self_Employed_No                 -1.000000            -0.038232   \n",
       "Self_Employed_Yes                 1.000000             0.038232   \n",
       "Property_Area_Rural               0.038232             1.000000   \n",
       "Property_Area_Semiurban           0.017617            -0.509615   \n",
       "Property_Area_Urban              -0.054867            -0.402806   \n",
       "\n",
       "                         Property_Area_Semiurban  Property_Area_Urban  \n",
       "ApplicantIncome                        -0.010096             0.029926  \n",
       "CoapplicantIncome                      -0.014162            -0.068110  \n",
       "Loan_Amount_Term                        0.088347            -0.135402  \n",
       "Credit_History                         -0.010026             0.019520  \n",
       "Gender_Female                           0.127774            -0.061876  \n",
       "Gender_Male                            -0.127774             0.061876  \n",
       "Married_No                             -0.008640            -0.024458  \n",
       "Married_Yes                             0.008640             0.024458  \n",
       "Dependents_0                            0.021702            -0.070877  \n",
       "Dependents_1                            0.013263             0.101092  \n",
       "Dependents_2                           -0.015435             0.027177  \n",
       "Dependents_3                           -0.035675            -0.045604  \n",
       "Education_Graduate                     -0.002642             0.062440  \n",
       "Education_Not Graduate                  0.002642            -0.062440  \n",
       "Self_Employed_No                       -0.017617             0.054867  \n",
       "Self_Employed_Yes                       0.017617            -0.054867  \n",
       "Property_Area_Rural                    -0.509615            -0.402806  \n",
       "Property_Area_Semiurban                 1.000000            -0.582238  \n",
       "Property_Area_Urban                    -0.582238             1.000000  "
      ]
     },
     "execution_count": 86,
     "metadata": {},
     "output_type": "execute_result"
    }
   ],
   "source": [
    "X.corr()"
   ]
  },
  {
   "cell_type": "code",
   "execution_count": 87,
   "id": "f4fd3979",
   "metadata": {},
   "outputs": [
    {
     "data": {
      "text/plain": [
       "<AxesSubplot:>"
      ]
     },
     "execution_count": 87,
     "metadata": {},
     "output_type": "execute_result"
    },
    {
     "data": {
      "image/png": "[encoded data removed]",
      "text/plain": [
       "<Figure size 432x288 with 2 Axes>"
      ]
     },
     "metadata": {
      "needs_background": "light"
     },
     "output_type": "display_data"
    }
   ],
   "source": [
    "sb.heatmap(X.corr())"
   ]
  },
  {
   "cell_type": "markdown",
   "id": "5ddea0af",
   "metadata": {},
   "source": [
    "# 2)Ridge Model"
   ]
  },
  {
   "cell_type": "markdown",
   "id": "5632b54f",
   "metadata": {},
   "source": [
    "# Finding best value for alpha using GridSearchCV"
   ]
  },
  {
   "cell_type": "code",
   "execution_count": 88,
   "id": "f16c0832",
   "metadata": {},
   "outputs": [],
   "source": [
    "from sklearn.linear_model import Ridge\n",
    "\n",
    "w = []\n",
    "q = 0.9\n",
    "for i in range(0,20):\n",
    "    q = q + 0.01\n",
    "    w.append(q)\n",
    "    \n",
    "rr = Ridge()\n",
    "tp = {\"alpha\":w}\n",
    "cv = GridSearchCV(rr,tp,scoring=\"neg_mean_absolute_error\",cv=4)\n",
    "cvmodel = cv.fit(xtrain,ytrain)"
   ]
  },
  {
   "cell_type": "code",
   "execution_count": 89,
   "id": "a2282ed6",
   "metadata": {},
   "outputs": [
    {
     "data": {
      "text/plain": [
       "{'alpha': 1.1}"
      ]
     },
     "execution_count": 89,
     "metadata": {},
     "output_type": "execute_result"
    }
   ],
   "source": [
    "cvmodel.best_params_"
   ]
  },
  {
   "cell_type": "markdown",
   "id": "f6ae68fe",
   "metadata": {},
   "source": [
    "# Creating Ridge Model"
   ]
  },
  {
   "cell_type": "code",
   "execution_count": 90,
   "id": "191047ad",
   "metadata": {},
   "outputs": [],
   "source": [
    "rr1 = Ridge(alpha=1.1)\n",
    "model_rr1 = rr1.fit(xtrain,ytrain)"
   ]
  },
  {
   "cell_type": "markdown",
   "id": "de02f8eb",
   "metadata": {},
   "source": [
    "# Calculating train and test error"
   ]
  },
  {
   "cell_type": "code",
   "execution_count": 91,
   "id": "f8dae321",
   "metadata": {},
   "outputs": [
    {
     "name": "stdout",
     "output_type": "stream",
     "text": [
      "Ridge Training MAE:  39.604\n",
      "Ridge Testing MAE:  36.8004\n"
     ]
    }
   ],
   "source": [
    "pred_tr_modelrr1 = model_rr1.predict(xtrain)\n",
    "err_tr_modelrr1 = round(mean_absolute_error(ytrain,pred_tr_modelrr1),4)\n",
    "print(\"Ridge Training MAE: \",err_tr_modelrr1)\n",
    "\n",
    "pred_ts_modelrr1 = model_rr1.predict(xtest)\n",
    "err_ts_modelrr1 = round(mean_absolute_error(ytest,pred_ts_modelrr1),4)\n",
    "print(\"Ridge Testing MAE: \",err_ts_modelrr1)"
   ]
  },
  {
   "cell_type": "markdown",
   "id": "d8067b99",
   "metadata": {},
   "source": [
    "# 3)Lasso Model"
   ]
  },
  {
   "cell_type": "markdown",
   "id": "0c44ef7c",
   "metadata": {},
   "source": [
    "# Finding best value for alpha using GridSearchCV"
   ]
  },
  {
   "cell_type": "code",
   "execution_count": 92,
   "id": "f8c3abf4",
   "metadata": {},
   "outputs": [
    {
     "data": {
      "text/plain": [
       "{'alpha': 1.1}"
      ]
     },
     "execution_count": 92,
     "metadata": {},
     "output_type": "execute_result"
    }
   ],
   "source": [
    "from sklearn.linear_model import Lasso\n",
    "\n",
    "w = []\n",
    "q = 0.9\n",
    "for i in range(0,20):\n",
    "    q = q + 0.01\n",
    "    w.append(q)\n",
    "    \n",
    "la = Lasso()\n",
    "tp = {\"alpha\":w}\n",
    "cv = GridSearchCV(la,tp,scoring=\"neg_mean_absolute_error\",cv=4)\n",
    "cvmodel = cv.fit(xtrain,ytrain)\n",
    "cvmodel.best_params_"
   ]
  },
  {
   "cell_type": "markdown",
   "id": "8f1465d1",
   "metadata": {},
   "source": [
    "# Creating Lasso Model"
   ]
  },
  {
   "cell_type": "code",
   "execution_count": 93,
   "id": "5b0dd841",
   "metadata": {},
   "outputs": [],
   "source": [
    "la1 = Lasso(alpha=1.1)\n",
    "model_la1 = la1.fit(xtrain,ytrain)"
   ]
  },
  {
   "cell_type": "markdown",
   "id": "39de141a",
   "metadata": {},
   "source": [
    "# Calculating train and test error"
   ]
  },
  {
   "cell_type": "code",
   "execution_count": 94,
   "id": "4980a3a2",
   "metadata": {},
   "outputs": [
    {
     "name": "stdout",
     "output_type": "stream",
     "text": [
      "Lasso Training MAE:  39.1841\n",
      "Lasso Testing MAE:  35.8646\n"
     ]
    }
   ],
   "source": [
    "pred_tr_modella1 = model_la1.predict(xtrain)\n",
    "err_tr_modella1 = round(mean_absolute_error(ytrain,pred_tr_modella1),4)\n",
    "print(\"Lasso Training MAE: \",err_tr_modella1)\n",
    "\n",
    "pred_ts_modella1 = model_la1.predict(xtest)\n",
    "err_ts_modella1 = round(mean_absolute_error(ytest,pred_ts_modella1),4)\n",
    "print(\"Lasso Testing MAE: \",err_ts_modella1)"
   ]
  },
  {
   "cell_type": "markdown",
   "id": "fc90aeb7",
   "metadata": {},
   "source": [
    "# 4)Decision Tree Model"
   ]
  },
  {
   "cell_type": "code",
   "execution_count": 95,
   "id": "3747c902",
   "metadata": {},
   "outputs": [],
   "source": [
    "from sklearn.tree import DecisionTreeRegressor\n",
    "dtr1  = DecisionTreeRegressor(random_state=21)\n",
    "model_dtr1 = dtr1.fit(xtrain,ytrain)"
   ]
  },
  {
   "cell_type": "markdown",
   "id": "b477f86b",
   "metadata": {},
   "source": [
    "# Calculating train and test error"
   ]
  },
  {
   "cell_type": "code",
   "execution_count": 96,
   "id": "228b1092",
   "metadata": {},
   "outputs": [
    {
     "name": "stdout",
     "output_type": "stream",
     "text": [
      "Decision Tree Training MAE:  0.0\n",
      "Decision Tree Testing MAE:  53.6305\n"
     ]
    }
   ],
   "source": [
    "pred_tr_modeldtr1 = model_dtr1.predict(xtrain)\n",
    "err_tr_modeldtr1 = round(mean_absolute_error(ytrain,pred_tr_modeldtr1),4)\n",
    "print(\"Decision Tree Training MAE: \",err_tr_modeldtr1)\n",
    "\n",
    "pred_ts_modeldtr1 = model_dtr1.predict(xtest)\n",
    "err_ts_modeldtr1 = round(mean_absolute_error(ytest,pred_ts_modeldtr1),4)\n",
    "print(\"Decision Tree Testing MAE: \",err_ts_modeldtr1)"
   ]
  },
  {
   "cell_type": "markdown",
   "id": "dbbd6b19",
   "metadata": {},
   "source": [
    "# 5)Random Forest Model"
   ]
  },
  {
   "cell_type": "markdown",
   "id": "a2bcd0be",
   "metadata": {},
   "source": [
    "# Finding best value for n Estimators, max depth using GridSearchCV"
   ]
  },
  {
   "cell_type": "code",
   "execution_count": 97,
   "id": "6923981d",
   "metadata": {},
   "outputs": [
    {
     "data": {
      "text/plain": [
       "{'max_depth': 4, 'n_estimators': 14}"
      ]
     },
     "execution_count": 97,
     "metadata": {},
     "output_type": "execute_result"
    }
   ],
   "source": [
    "from sklearn.ensemble import RandomForestRegressor\n",
    "\n",
    "tg = {\"max_depth\":range(2,15,1),\"n_estimators\":range(2,15,1)}\n",
    "rfr = RandomForestRegressor(random_state=21)\n",
    "cv = GridSearchCV(rfr,tg,scoring=\"neg_mean_absolute_error\",cv=4)\n",
    "cvmodel = cv.fit(xtrain,ytrain)\n",
    "cvmodel.best_params_"
   ]
  },
  {
   "cell_type": "markdown",
   "id": "f1912f00",
   "metadata": {},
   "source": [
    "# Creating Random Forest Model"
   ]
  },
  {
   "cell_type": "code",
   "execution_count": 98,
   "id": "aceb5212",
   "metadata": {},
   "outputs": [],
   "source": [
    "rfo1 = RandomForestRegressor(n_estimators=14, random_state=21, max_depth=4)\n",
    "model_rfr1 = rfo1.fit(xtrain,ytrain)"
   ]
  },
  {
   "cell_type": "markdown",
   "id": "8997efd3",
   "metadata": {},
   "source": [
    "# Calculating train and test error"
   ]
  },
  {
   "cell_type": "code",
   "execution_count": 99,
   "id": "b698cf1d",
   "metadata": {},
   "outputs": [
    {
     "name": "stdout",
     "output_type": "stream",
     "text": [
      "Random Forest Training MAE:  31.6911\n",
      "Random Forest Testing MAE:  32.9811\n"
     ]
    }
   ],
   "source": [
    "pred_tr_modelrfr1 = model_rfr1.predict(xtrain)\n",
    "err_tr_modelrfr1 = round(mean_absolute_error(ytrain,pred_tr_modelrfr1),4)\n",
    "print(\"Random Forest Training MAE: \",err_tr_modelrfr1)\n",
    "\n",
    "pred_ts_modelrfr1 = model_rfr1.predict(xtest)\n",
    "err_ts_modelrfr1 = round(mean_absolute_error(ytest,pred_ts_modelrfr1),4)\n",
    "print(\"Random Forest Testing MAE: \",err_ts_modelrfr1)"
   ]
  },
  {
   "cell_type": "markdown",
   "id": "6f6bb96b",
   "metadata": {},
   "source": [
    "# 6)Adaboost Regression Model"
   ]
  },
  {
   "cell_type": "markdown",
   "id": "3100919c",
   "metadata": {},
   "source": [
    "# Finding best value for n Estimators using GridSearchCV"
   ]
  },
  {
   "cell_type": "code",
   "execution_count": 100,
   "id": "e6a5ba02",
   "metadata": {},
   "outputs": [
    {
     "data": {
      "text/plain": [
       "{'n_estimators': 4}"
      ]
     },
     "execution_count": 100,
     "metadata": {},
     "output_type": "execute_result"
    }
   ],
   "source": [
    "from sklearn.ensemble import AdaBoostRegressor\n",
    "from sklearn.tree import DecisionTreeRegressor\n",
    "\n",
    "tg = {\"n_estimators\":range(2,15,1)}\n",
    "abm = AdaBoostRegressor(DecisionTreeRegressor(random_state=21,max_depth=2),random_state=21)\n",
    "cv = GridSearchCV(abm,tg,scoring=\"neg_mean_absolute_error\",cv=4)\n",
    "cvmodel = cv.fit(xtrain,ytrain)\n",
    "cvmodel.best_params_"
   ]
  },
  {
   "cell_type": "markdown",
   "id": "06899265",
   "metadata": {},
   "source": [
    "# Creating Adaboost Regression Model"
   ]
  },
  {
   "cell_type": "code",
   "execution_count": 101,
   "id": "ff027d68",
   "metadata": {},
   "outputs": [],
   "source": [
    "boost1 = AdaBoostRegressor(DecisionTreeRegressor(random_state=21,max_depth=2),n_estimators=4,random_state=21)\n",
    "model_adr1 = boost1.fit(xtrain,ytrain)"
   ]
  },
  {
   "cell_type": "markdown",
   "id": "4ac93528",
   "metadata": {},
   "source": [
    "# Calculating train and test error"
   ]
  },
  {
   "cell_type": "code",
   "execution_count": 102,
   "id": "1ca578ba",
   "metadata": {},
   "outputs": [
    {
     "name": "stdout",
     "output_type": "stream",
     "text": [
      "Adaboost Regressor Training MAE:  42.8191\n",
      "Adaboost Regressor Testing MAE:  33.1322\n"
     ]
    }
   ],
   "source": [
    "pred_tr_modeladr1 = model_adr1.predict(xtrain)\n",
    "err_tr_modeladr1 = round(mean_absolute_error(ytrain,pred_tr_modeladr1),4)\n",
    "print(\"Adaboost Regressor Training MAE: \",err_tr_modeladr1)\n",
    "\n",
    "pred_ts_modeladr1 = model_adr1.predict(xtest)\n",
    "err_ts_modeladr1 = round(mean_absolute_error(ytest,pred_ts_modeladr1),4)\n",
    "print(\"Adaboost Regressor Testing MAE: \",err_ts_modeladr1)"
   ]
  },
  {
   "cell_type": "markdown",
   "id": "bc0de22b",
   "metadata": {},
   "source": [
    "# 7)KNN Regression Model"
   ]
  },
  {
   "cell_type": "markdown",
   "id": "3da61995",
   "metadata": {},
   "source": [
    "# Finding best value for n neighbors using GridSearchCV"
   ]
  },
  {
   "cell_type": "code",
   "execution_count": 103,
   "id": "c92c4cc1",
   "metadata": {},
   "outputs": [
    {
     "data": {
      "text/plain": [
       "{'n_neighbors': 12}"
      ]
     },
     "execution_count": 103,
     "metadata": {},
     "output_type": "execute_result"
    }
   ],
   "source": [
    "from sklearn.neighbors import KNeighborsRegressor\n",
    "\n",
    "tg = {\"n_neighbors\":range(2,15,1)}\n",
    "knn = KNeighborsRegressor()\n",
    "cv = GridSearchCV(knn,tg,scoring=\"neg_mean_absolute_error\",cv=4)\n",
    "cvmodel = cv.fit(xtrain,ytrain)\n",
    "cvmodel.best_params_"
   ]
  },
  {
   "cell_type": "markdown",
   "id": "077c8bc9",
   "metadata": {},
   "source": [
    "# Creating KNN Model"
   ]
  },
  {
   "cell_type": "code",
   "execution_count": 104,
   "id": "6d848380",
   "metadata": {},
   "outputs": [],
   "source": [
    "kn1 = KNeighborsRegressor(n_neighbors=12)\n",
    "model_knnr1 = kn1.fit(xtrain,ytrain)"
   ]
  },
  {
   "cell_type": "markdown",
   "id": "44f208ae",
   "metadata": {},
   "source": [
    "# Calculating train and test error"
   ]
  },
  {
   "cell_type": "code",
   "execution_count": 105,
   "id": "eecb393e",
   "metadata": {},
   "outputs": [
    {
     "name": "stdout",
     "output_type": "stream",
     "text": [
      "KNN Regressor Training MAE:  40.0139\n",
      "KNN Regressor Testing MAE:  33.6829\n"
     ]
    }
   ],
   "source": [
    "pred_tr_modelknnr1 = model_knnr1.predict(xtrain)\n",
    "err_tr_modelknnr1 = round(mean_absolute_error(ytrain,pred_tr_modelknnr1),4)\n",
    "print(\"KNN Regressor Training MAE: \",err_tr_modelknnr1)\n",
    "\n",
    "pred_ts_modelknnr1 = model_knnr1.predict(xtest)\n",
    "err_ts_modelknnr1 = round(mean_absolute_error(ytest,pred_ts_modelknnr1),4)\n",
    "print(\"KNN Regressor Testing MAE: \",err_ts_modelknnr1)"
   ]
  },
  {
   "cell_type": "markdown",
   "id": "ac25702c",
   "metadata": {},
   "source": [
    "# Random Forest Model is the best among all models"
   ]
  },
  {
   "cell_type": "markdown",
   "id": "acbfbff3",
   "metadata": {},
   "source": [
    "# Train Random Forest Model with overall trainning data"
   ]
  },
  {
   "cell_type": "code",
   "execution_count": 106,
   "id": "debbd62e",
   "metadata": {},
   "outputs": [],
   "source": [
    "rfrm1 = RandomForestRegressor(n_estimators=14, random_state=21, max_depth=4)\n",
    "model_rfr1_fin = rfrm1.fit(X,Y)"
   ]
  },
  {
   "cell_type": "markdown",
   "id": "8fe49094",
   "metadata": {},
   "source": [
    "# Prepare testing data same as trainning data"
   ]
  },
  {
   "cell_type": "code",
   "execution_count": 107,
   "id": "cc87210d",
   "metadata": {},
   "outputs": [],
   "source": [
    "test_data2 = B[B[\"Loan_Status\"]==\"N\"]"
   ]
  },
  {
   "cell_type": "markdown",
   "id": "9d974ea3",
   "metadata": {},
   "source": [
    "# Indexing"
   ]
  },
  {
   "cell_type": "code",
   "execution_count": 108,
   "id": "aeb701a9",
   "metadata": {},
   "outputs": [],
   "source": [
    "len_test_data2 = test_data2.shape[0]\n",
    "test_data2.index = range(0,len_test_data2,1)"
   ]
  },
  {
   "cell_type": "markdown",
   "id": "e1744d50",
   "metadata": {},
   "source": [
    "# Remove Unwanted Columns"
   ]
  },
  {
   "cell_type": "code",
   "execution_count": 109,
   "id": "7fdbd431",
   "metadata": {},
   "outputs": [],
   "source": [
    "test_data2 = test_data2.drop(labels=[\"LoanAmount\",\"Loan_Status\"],axis=1)"
   ]
  },
  {
   "cell_type": "markdown",
   "id": "ecb92c81",
   "metadata": {},
   "source": [
    "# Data Preprocessing"
   ]
  },
  {
   "cell_type": "code",
   "execution_count": 110,
   "id": "dc0fa554",
   "metadata": {},
   "outputs": [],
   "source": [
    "cat, con = cat_con_sep(test_data2)"
   ]
  },
  {
   "cell_type": "code",
   "execution_count": 111,
   "id": "a8e50c31",
   "metadata": {},
   "outputs": [],
   "source": [
    "test_data2 = preprocessing_data(test_data2,cat,con)"
   ]
  },
  {
   "cell_type": "markdown",
   "id": "8315a2ad",
   "metadata": {},
   "source": [
    "# Predicting Loan Amount"
   ]
  },
  {
   "cell_type": "code",
   "execution_count": 112,
   "id": "2be53eda",
   "metadata": {},
   "outputs": [],
   "source": [
    "predicted_LoanAmount = model_rfr1_fin.predict(test_data2)"
   ]
  },
  {
   "cell_type": "code",
   "execution_count": 113,
   "id": "0f0cfe64",
   "metadata": {},
   "outputs": [],
   "source": [
    "pred_la = []\n",
    "for i in predicted_LoanAmount:\n",
    "    pred_la.append(round(i,2))"
   ]
  },
  {
   "cell_type": "code",
   "execution_count": 114,
   "id": "ab576020",
   "metadata": {},
   "outputs": [],
   "source": [
    "C = B[B[\"Loan_Status\"]==\"N\"]\n",
    "len_C = C.shape[0]\n",
    "C.index = range(0,len_C,1)"
   ]
  },
  {
   "cell_type": "code",
   "execution_count": 115,
   "id": "f32287d1",
   "metadata": {},
   "outputs": [],
   "source": [
    "C = C.drop(labels=[\"LoanAmount\",\"Loan_Status\"],axis=1)"
   ]
  },
  {
   "cell_type": "code",
   "execution_count": 116,
   "id": "5a3643ba",
   "metadata": {},
   "outputs": [],
   "source": [
    "C[[\"LoanAmount\"]] = pred_la"
   ]
  },
  {
   "cell_type": "code",
   "execution_count": 117,
   "id": "5c1c0b37",
   "metadata": {},
   "outputs": [
    {
     "data": {
      "text/html": [
       "<div>\n",
       "<style scoped>\n",
       "    .dataframe tbody tr th:only-of-type {\n",
       "        vertical-align: middle;\n",
       "    }\n",
       "\n",
       "    .dataframe tbody tr th {\n",
       "        vertical-align: top;\n",
       "    }\n",
       "\n",
       "    .dataframe thead th {\n",
       "        text-align: right;\n",
       "    }\n",
       "</style>\n",
       "<table border=\"1\" class=\"dataframe\">\n",
       "  <thead>\n",
       "    <tr style=\"text-align: right;\">\n",
       "      <th></th>\n",
       "      <th>Gender</th>\n",
       "      <th>Married</th>\n",
       "      <th>Dependents</th>\n",
       "      <th>Education</th>\n",
       "      <th>Self_Employed</th>\n",
       "      <th>ApplicantIncome</th>\n",
       "      <th>CoapplicantIncome</th>\n",
       "      <th>Loan_Amount_Term</th>\n",
       "      <th>Credit_History</th>\n",
       "      <th>Property_Area</th>\n",
       "      <th>LoanAmount</th>\n",
       "    </tr>\n",
       "  </thead>\n",
       "  <tbody>\n",
       "    <tr>\n",
       "      <th>0</th>\n",
       "      <td>Male</td>\n",
       "      <td>Yes</td>\n",
       "      <td>2</td>\n",
       "      <td>Not Graduate</td>\n",
       "      <td>No</td>\n",
       "      <td>3881</td>\n",
       "      <td>0</td>\n",
       "      <td>360.0</td>\n",
       "      <td>0.0</td>\n",
       "      <td>Rural</td>\n",
       "      <td>107.96</td>\n",
       "    </tr>\n",
       "    <tr>\n",
       "      <th>1</th>\n",
       "      <td>Male</td>\n",
       "      <td>Yes</td>\n",
       "      <td>2</td>\n",
       "      <td>Graduate</td>\n",
       "      <td>No</td>\n",
       "      <td>12173</td>\n",
       "      <td>0</td>\n",
       "      <td>360.0</td>\n",
       "      <td>0.0</td>\n",
       "      <td>Semiurban</td>\n",
       "      <td>174.41</td>\n",
       "    </tr>\n",
       "    <tr>\n",
       "      <th>2</th>\n",
       "      <td>Female</td>\n",
       "      <td>No</td>\n",
       "      <td>3</td>\n",
       "      <td>Not Graduate</td>\n",
       "      <td>No</td>\n",
       "      <td>2083</td>\n",
       "      <td>0</td>\n",
       "      <td>180.0</td>\n",
       "      <td>1.0</td>\n",
       "      <td>Urban</td>\n",
       "      <td>94.63</td>\n",
       "    </tr>\n",
       "  </tbody>\n",
       "</table>\n",
       "</div>"
      ],
      "text/plain": [
       "   Gender Married Dependents     Education Self_Employed  ApplicantIncome  \\\n",
       "0    Male     Yes          2  Not Graduate            No             3881   \n",
       "1    Male     Yes          2      Graduate            No            12173   \n",
       "2  Female      No          3  Not Graduate            No             2083   \n",
       "\n",
       "   CoapplicantIncome  Loan_Amount_Term  Credit_History Property_Area  \\\n",
       "0                  0             360.0             0.0         Rural   \n",
       "1                  0             360.0             0.0     Semiurban   \n",
       "2                  0             180.0             1.0         Urban   \n",
       "\n",
       "   LoanAmount  \n",
       "0      107.96  \n",
       "1      174.41  \n",
       "2       94.63  "
      ]
     },
     "execution_count": 117,
     "metadata": {},
     "output_type": "execute_result"
    }
   ],
   "source": [
    "C.head(3)"
   ]
  },
  {
   "cell_type": "markdown",
   "id": "d96503a7",
   "metadata": {},
   "source": [
    "# b. If duration is less than equal to 20 years, is customer eligible for required amount for some longer duration? What is that duration?"
   ]
  },
  {
   "cell_type": "code",
   "execution_count": 118,
   "id": "9b61c402",
   "metadata": {},
   "outputs": [],
   "source": [
    "train_data2 = A[(A[\"Loan_Status\"]==\"Y\") & (A[\"Loan_Amount_Term\"]>240.0)]"
   ]
  },
  {
   "cell_type": "markdown",
   "id": "fa45fad5",
   "metadata": {},
   "source": [
    "# Indexing"
   ]
  },
  {
   "cell_type": "code",
   "execution_count": 119,
   "id": "9bbfd381",
   "metadata": {},
   "outputs": [],
   "source": [
    "len_train_data2 = train_data2.shape[0]\n",
    "train_data2.index = range(0,len_train_data2,1)"
   ]
  },
  {
   "cell_type": "markdown",
   "id": "c4dd5a2d",
   "metadata": {},
   "source": [
    "# Drop Unnecessary Columns"
   ]
  },
  {
   "cell_type": "code",
   "execution_count": 120,
   "id": "6599924d",
   "metadata": {},
   "outputs": [],
   "source": [
    "train_data2 = train_data2.drop(labels=[\"Loan_Status\"],axis=1)"
   ]
  },
  {
   "cell_type": "code",
   "execution_count": 121,
   "id": "bb66fc89",
   "metadata": {},
   "outputs": [],
   "source": [
    "X = train_data2.drop(labels=[\"Loan_Amount_Term\"],axis=1)\n",
    "Y = train_data2[[\"Loan_Amount_Term\"]]"
   ]
  },
  {
   "cell_type": "markdown",
   "id": "f4e543a8",
   "metadata": {},
   "source": [
    "# Convert Dependents columns into continuous"
   ]
  },
  {
   "cell_type": "code",
   "execution_count": 122,
   "id": "4eda2eef",
   "metadata": {},
   "outputs": [],
   "source": [
    "dep1 = []\n",
    "for i in X.Dependents:\n",
    "    dep1.append(int(i))\n",
    "\n",
    "X[[\"Dependents\"]] = dep1"
   ]
  },
  {
   "cell_type": "code",
   "execution_count": 123,
   "id": "359ce838",
   "metadata": {},
   "outputs": [],
   "source": [
    "loan_term = []\n",
    "for i in Y.Loan_Amount_Term:\n",
    "    loan_term.append(int(i))\n",
    "    \n",
    "Y[\"Loan_Amount_Term\"] = loan_term"
   ]
  },
  {
   "cell_type": "markdown",
   "id": "05b3b0cc",
   "metadata": {},
   "source": [
    "# EDA"
   ]
  },
  {
   "cell_type": "markdown",
   "id": "01d42bca",
   "metadata": {},
   "source": [
    "# 1)Univariant"
   ]
  },
  {
   "cell_type": "code",
   "execution_count": 124,
   "id": "debad69e",
   "metadata": {},
   "outputs": [
    {
     "data": {
      "image/png": "[encoded data removed]",
      "text/plain": [
       "<Figure size 1440x2880 with 10 Axes>"
      ]
     },
     "metadata": {
      "needs_background": "light"
     },
     "output_type": "display_data"
    }
   ],
   "source": [
    "import matplotlib.pyplot as pt\n",
    "pt.figure(figsize=(20,40))\n",
    "q = 1\n",
    "for i in X.columns:\n",
    "    if X[i].dtype == \"object\":\n",
    "        pt.subplot(11,3,q)\n",
    "        sb.countplot(X[i])\n",
    "        q = q + 1\n",
    "        \n",
    "    else:\n",
    "        pt.subplot(11,3,q)\n",
    "        sb.distplot(X[i])\n",
    "        q = q + 1"
   ]
  },
  {
   "cell_type": "markdown",
   "id": "ed87b668",
   "metadata": {},
   "source": [
    "# 2)Bivariant"
   ]
  },
  {
   "cell_type": "code",
   "execution_count": 125,
   "id": "86761c32",
   "metadata": {},
   "outputs": [
    {
     "data": {
      "image/png": "[encoded data removed]",
      "text/plain": [
       "<Figure size 1440x2880 with 10 Axes>"
      ]
     },
     "metadata": {
      "needs_background": "light"
     },
     "output_type": "display_data"
    }
   ],
   "source": [
    "import matplotlib.pyplot as pt\n",
    "pt.figure(figsize=(20,40))\n",
    "q = 1\n",
    "for i in X.columns:\n",
    "    if X[i].dtype == \"object\":\n",
    "        pt.subplot(11,3,q)\n",
    "        sb.boxplot(X[i],Y.Loan_Amount_Term)\n",
    "        q = q + 1\n",
    "        \n",
    "    else:\n",
    "        pt.subplot(11,3,q)\n",
    "        sb.scatterplot(X[i],Y.Loan_Amount_Term)\n",
    "        q = q + 1"
   ]
  },
  {
   "cell_type": "markdown",
   "id": "57635d98",
   "metadata": {},
   "source": [
    "# Data Preprocessing"
   ]
  },
  {
   "cell_type": "code",
   "execution_count": 126,
   "id": "f9fde538",
   "metadata": {},
   "outputs": [],
   "source": [
    "cat, con = cat_con_sep(X)"
   ]
  },
  {
   "cell_type": "code",
   "execution_count": 127,
   "id": "2af03f1d",
   "metadata": {},
   "outputs": [
    {
     "data": {
      "text/plain": [
       "Dependents           1.018780\n",
       "ApplicantIncome      4.759015\n",
       "CoapplicantIncome    3.163921\n",
       "LoanAmount           3.026631\n",
       "Credit_History      -6.938382\n",
       "dtype: float64"
      ]
     },
     "execution_count": 127,
     "metadata": {},
     "output_type": "execute_result"
    }
   ],
   "source": [
    "X[con].skew()"
   ]
  },
  {
   "cell_type": "code",
   "execution_count": 128,
   "id": "d3d79f50",
   "metadata": {},
   "outputs": [],
   "source": [
    "X.ApplicantIncome = log(X.ApplicantIncome)\n",
    "X.CoapplicantIncome = sqrt(X.CoapplicantIncome)\n",
    "X.LoanAmount = log(X.LoanAmount)\n",
    "X.Dependents = sqrt(X.Dependents)"
   ]
  },
  {
   "cell_type": "code",
   "execution_count": 129,
   "id": "7df85344",
   "metadata": {},
   "outputs": [
    {
     "data": {
      "text/plain": [
       "Dependents           0.608876\n",
       "ApplicantIncome      0.532392\n",
       "CoapplicantIncome    0.303109\n",
       "LoanAmount           0.151099\n",
       "Credit_History      -6.938382\n",
       "dtype: float64"
      ]
     },
     "execution_count": 129,
     "metadata": {},
     "output_type": "execute_result"
    }
   ],
   "source": [
    "X[con].skew()"
   ]
  },
  {
   "cell_type": "code",
   "execution_count": 130,
   "id": "8a03cdf9",
   "metadata": {},
   "outputs": [],
   "source": [
    "cat.remove(\"Property_Area\")"
   ]
  },
  {
   "cell_type": "code",
   "execution_count": 131,
   "id": "109f378f",
   "metadata": {},
   "outputs": [
    {
     "data": {
      "text/plain": [
       "['Gender', 'Married', 'Education', 'Self_Employed']"
      ]
     },
     "execution_count": 131,
     "metadata": {},
     "output_type": "execute_result"
    }
   ],
   "source": [
    "cat"
   ]
  },
  {
   "cell_type": "code",
   "execution_count": 132,
   "id": "df63de1d",
   "metadata": {},
   "outputs": [],
   "source": [
    "lb1 = LabelEncoder()\n",
    "ss1 = StandardScaler()\n",
    "X1 = pd.DataFrame(lb1.fit_transform(X[\"Gender\"]),columns=[\"Gender\"])\n",
    "X2 = pd.get_dummies(X[\"Property_Area\"])\n",
    "X3 = X1.join(X2)\n",
    "X4 = pd.DataFrame(lb1.fit_transform(X[\"Married\"]),columns=[\"Married\"])\n",
    "X5 = pd.DataFrame(lb1.fit_transform(X[\"Education\"]),columns=[\"Education\"])\n",
    "X6 = X4.join(X5)\n",
    "X7 = pd.DataFrame(lb1.fit_transform(X[\"Self_Employed\"]),columns=[\"Self_Employed\"])\n",
    "X8 = X6.join(X7)\n",
    "X9 = X8.join(X3)\n",
    "X10 = pd.DataFrame(ss1.fit_transform(X[con]),columns=con)\n",
    "X = X10.join(X9)"
   ]
  },
  {
   "cell_type": "markdown",
   "id": "b2adea71",
   "metadata": {},
   "source": [
    "# Divide X and Y into training and testing"
   ]
  },
  {
   "cell_type": "code",
   "execution_count": 133,
   "id": "6376f7c5",
   "metadata": {},
   "outputs": [],
   "source": [
    "xtrain,xtest,ytrain,ytest = train_test_split(X,Y,test_size=0.2,random_state=32)"
   ]
  },
  {
   "cell_type": "markdown",
   "id": "9293f8a8",
   "metadata": {},
   "source": [
    "# Creating ML Models and choose one of the best"
   ]
  },
  {
   "cell_type": "markdown",
   "id": "97237877",
   "metadata": {},
   "source": [
    "# 1) Multiple Linear Regressor Model"
   ]
  },
  {
   "cell_type": "code",
   "execution_count": 134,
   "id": "db9ff63c",
   "metadata": {},
   "outputs": [],
   "source": [
    "lm2 = LinearRegression()\n",
    "lm2_model = lm2.fit(xtrain,ytrain)"
   ]
  },
  {
   "cell_type": "markdown",
   "id": "e43b3fb8",
   "metadata": {},
   "source": [
    "# Calculating tarin and test error"
   ]
  },
  {
   "cell_type": "code",
   "execution_count": 135,
   "id": "b10d67b7",
   "metadata": {},
   "outputs": [
    {
     "name": "stdout",
     "output_type": "stream",
     "text": [
      "MLR Training MAE:  7.0562\n",
      "MLR Testing MAE:  5.6849\n"
     ]
    }
   ],
   "source": [
    "pred_tr_lm2model = lm2_model.predict(xtrain)\n",
    "err_tr_lm2model = round(mean_absolute_error(ytrain,pred_tr_lm2model),4)\n",
    "print(\"MLR Training MAE: \",err_tr_lm2model)\n",
    "\n",
    "pred_ts_lm2model = lm2_model.predict(xtest)\n",
    "err_ts_lm2model = round(mean_absolute_error(ytest,pred_ts_lm2model),4)\n",
    "print(\"MLR Testing MAE: \",err_ts_lm2model)"
   ]
  },
  {
   "cell_type": "markdown",
   "id": "9a529372",
   "metadata": {},
   "source": [
    "# Check Collinearity"
   ]
  },
  {
   "cell_type": "code",
   "execution_count": 136,
   "id": "068a4f6e",
   "metadata": {},
   "outputs": [
    {
     "data": {
      "text/html": [
       "<div>\n",
       "<style scoped>\n",
       "    .dataframe tbody tr th:only-of-type {\n",
       "        vertical-align: middle;\n",
       "    }\n",
       "\n",
       "    .dataframe tbody tr th {\n",
       "        vertical-align: top;\n",
       "    }\n",
       "\n",
       "    .dataframe thead th {\n",
       "        text-align: right;\n",
       "    }\n",
       "</style>\n",
       "<table border=\"1\" class=\"dataframe\">\n",
       "  <thead>\n",
       "    <tr style=\"text-align: right;\">\n",
       "      <th></th>\n",
       "      <th>Dependents</th>\n",
       "      <th>ApplicantIncome</th>\n",
       "      <th>CoapplicantIncome</th>\n",
       "      <th>LoanAmount</th>\n",
       "      <th>Credit_History</th>\n",
       "      <th>Married</th>\n",
       "      <th>Education</th>\n",
       "      <th>Self_Employed</th>\n",
       "      <th>Gender</th>\n",
       "      <th>Rural</th>\n",
       "      <th>Semiurban</th>\n",
       "      <th>Urban</th>\n",
       "    </tr>\n",
       "  </thead>\n",
       "  <tbody>\n",
       "    <tr>\n",
       "      <th>Dependents</th>\n",
       "      <td>1.000000</td>\n",
       "      <td>0.176300</td>\n",
       "      <td>-0.046527</td>\n",
       "      <td>0.169422</td>\n",
       "      <td>-0.027765</td>\n",
       "      <td>0.348830</td>\n",
       "      <td>0.054317</td>\n",
       "      <td>0.076944</td>\n",
       "      <td>0.177344</td>\n",
       "      <td>-0.010752</td>\n",
       "      <td>-0.010796</td>\n",
       "      <td>0.022142</td>\n",
       "    </tr>\n",
       "    <tr>\n",
       "      <th>ApplicantIncome</th>\n",
       "      <td>0.176300</td>\n",
       "      <td>1.000000</td>\n",
       "      <td>-0.350550</td>\n",
       "      <td>0.496044</td>\n",
       "      <td>0.016553</td>\n",
       "      <td>-0.001328</td>\n",
       "      <td>-0.176204</td>\n",
       "      <td>0.247390</td>\n",
       "      <td>0.062626</td>\n",
       "      <td>-0.022151</td>\n",
       "      <td>-0.000099</td>\n",
       "      <td>0.021580</td>\n",
       "    </tr>\n",
       "    <tr>\n",
       "      <th>CoapplicantIncome</th>\n",
       "      <td>-0.046527</td>\n",
       "      <td>-0.350550</td>\n",
       "      <td>1.000000</td>\n",
       "      <td>0.133966</td>\n",
       "      <td>-0.044035</td>\n",
       "      <td>0.264678</td>\n",
       "      <td>-0.000562</td>\n",
       "      <td>-0.064459</td>\n",
       "      <td>0.235373</td>\n",
       "      <td>0.104411</td>\n",
       "      <td>-0.038713</td>\n",
       "      <td>-0.059188</td>\n",
       "    </tr>\n",
       "    <tr>\n",
       "      <th>LoanAmount</th>\n",
       "      <td>0.169422</td>\n",
       "      <td>0.496044</td>\n",
       "      <td>0.133966</td>\n",
       "      <td>1.000000</td>\n",
       "      <td>-0.042152</td>\n",
       "      <td>0.205778</td>\n",
       "      <td>-0.156998</td>\n",
       "      <td>0.159810</td>\n",
       "      <td>0.177050</td>\n",
       "      <td>0.089795</td>\n",
       "      <td>-0.025874</td>\n",
       "      <td>-0.058957</td>\n",
       "    </tr>\n",
       "    <tr>\n",
       "      <th>Credit_History</th>\n",
       "      <td>-0.027765</td>\n",
       "      <td>0.016553</td>\n",
       "      <td>-0.044035</td>\n",
       "      <td>-0.042152</td>\n",
       "      <td>1.000000</td>\n",
       "      <td>0.036792</td>\n",
       "      <td>-0.025866</td>\n",
       "      <td>0.038042</td>\n",
       "      <td>0.036439</td>\n",
       "      <td>0.017380</td>\n",
       "      <td>-0.009240</td>\n",
       "      <td>-0.006817</td>\n",
       "    </tr>\n",
       "    <tr>\n",
       "      <th>Married</th>\n",
       "      <td>0.348830</td>\n",
       "      <td>-0.001328</td>\n",
       "      <td>0.264678</td>\n",
       "      <td>0.205778</td>\n",
       "      <td>0.036792</td>\n",
       "      <td>1.000000</td>\n",
       "      <td>-0.014222</td>\n",
       "      <td>0.016352</td>\n",
       "      <td>0.376532</td>\n",
       "      <td>-0.050300</td>\n",
       "      <td>0.014972</td>\n",
       "      <td>0.032506</td>\n",
       "    </tr>\n",
       "    <tr>\n",
       "      <th>Education</th>\n",
       "      <td>0.054317</td>\n",
       "      <td>-0.176204</td>\n",
       "      <td>-0.000562</td>\n",
       "      <td>-0.156998</td>\n",
       "      <td>-0.025866</td>\n",
       "      <td>-0.014222</td>\n",
       "      <td>1.000000</td>\n",
       "      <td>-0.012558</td>\n",
       "      <td>-0.010032</td>\n",
       "      <td>0.101820</td>\n",
       "      <td>-0.005004</td>\n",
       "      <td>-0.093270</td>\n",
       "    </tr>\n",
       "    <tr>\n",
       "      <th>Self_Employed</th>\n",
       "      <td>0.076944</td>\n",
       "      <td>0.247390</td>\n",
       "      <td>-0.064459</td>\n",
       "      <td>0.159810</td>\n",
       "      <td>0.038042</td>\n",
       "      <td>0.016352</td>\n",
       "      <td>-0.012558</td>\n",
       "      <td>1.000000</td>\n",
       "      <td>0.009976</td>\n",
       "      <td>0.040850</td>\n",
       "      <td>0.012118</td>\n",
       "      <td>-0.052755</td>\n",
       "    </tr>\n",
       "    <tr>\n",
       "      <th>Gender</th>\n",
       "      <td>0.177344</td>\n",
       "      <td>0.062626</td>\n",
       "      <td>0.235373</td>\n",
       "      <td>0.177050</td>\n",
       "      <td>0.036439</td>\n",
       "      <td>0.376532</td>\n",
       "      <td>-0.010032</td>\n",
       "      <td>0.009976</td>\n",
       "      <td>1.000000</td>\n",
       "      <td>0.076237</td>\n",
       "      <td>-0.109643</td>\n",
       "      <td>0.045124</td>\n",
       "    </tr>\n",
       "    <tr>\n",
       "      <th>Rural</th>\n",
       "      <td>-0.010752</td>\n",
       "      <td>-0.022151</td>\n",
       "      <td>0.104411</td>\n",
       "      <td>0.089795</td>\n",
       "      <td>0.017380</td>\n",
       "      <td>-0.050300</td>\n",
       "      <td>0.101820</td>\n",
       "      <td>0.040850</td>\n",
       "      <td>0.076237</td>\n",
       "      <td>1.000000</td>\n",
       "      <td>-0.531291</td>\n",
       "      <td>-0.392618</td>\n",
       "    </tr>\n",
       "    <tr>\n",
       "      <th>Semiurban</th>\n",
       "      <td>-0.010796</td>\n",
       "      <td>-0.000099</td>\n",
       "      <td>-0.038713</td>\n",
       "      <td>-0.025874</td>\n",
       "      <td>-0.009240</td>\n",
       "      <td>0.014972</td>\n",
       "      <td>-0.005004</td>\n",
       "      <td>0.012118</td>\n",
       "      <td>-0.109643</td>\n",
       "      <td>-0.531291</td>\n",
       "      <td>1.000000</td>\n",
       "      <td>-0.570567</td>\n",
       "    </tr>\n",
       "    <tr>\n",
       "      <th>Urban</th>\n",
       "      <td>0.022142</td>\n",
       "      <td>0.021580</td>\n",
       "      <td>-0.059188</td>\n",
       "      <td>-0.058957</td>\n",
       "      <td>-0.006817</td>\n",
       "      <td>0.032506</td>\n",
       "      <td>-0.093270</td>\n",
       "      <td>-0.052755</td>\n",
       "      <td>0.045124</td>\n",
       "      <td>-0.392618</td>\n",
       "      <td>-0.570567</td>\n",
       "      <td>1.000000</td>\n",
       "    </tr>\n",
       "  </tbody>\n",
       "</table>\n",
       "</div>"
      ],
      "text/plain": [
       "                   Dependents  ApplicantIncome  CoapplicantIncome  LoanAmount  \\\n",
       "Dependents           1.000000         0.176300          -0.046527    0.169422   \n",
       "ApplicantIncome      0.176300         1.000000          -0.350550    0.496044   \n",
       "CoapplicantIncome   -0.046527        -0.350550           1.000000    0.133966   \n",
       "LoanAmount           0.169422         0.496044           0.133966    1.000000   \n",
       "Credit_History      -0.027765         0.016553          -0.044035   -0.042152   \n",
       "Married              0.348830        -0.001328           0.264678    0.205778   \n",
       "Education            0.054317        -0.176204          -0.000562   -0.156998   \n",
       "Self_Employed        0.076944         0.247390          -0.064459    0.159810   \n",
       "Gender               0.177344         0.062626           0.235373    0.177050   \n",
       "Rural               -0.010752        -0.022151           0.104411    0.089795   \n",
       "Semiurban           -0.010796        -0.000099          -0.038713   -0.025874   \n",
       "Urban                0.022142         0.021580          -0.059188   -0.058957   \n",
       "\n",
       "                   Credit_History   Married  Education  Self_Employed  \\\n",
       "Dependents              -0.027765  0.348830   0.054317       0.076944   \n",
       "ApplicantIncome          0.016553 -0.001328  -0.176204       0.247390   \n",
       "CoapplicantIncome       -0.044035  0.264678  -0.000562      -0.064459   \n",
       "LoanAmount              -0.042152  0.205778  -0.156998       0.159810   \n",
       "Credit_History           1.000000  0.036792  -0.025866       0.038042   \n",
       "Married                  0.036792  1.000000  -0.014222       0.016352   \n",
       "Education               -0.025866 -0.014222   1.000000      -0.012558   \n",
       "Self_Employed            0.038042  0.016352  -0.012558       1.000000   \n",
       "Gender                   0.036439  0.376532  -0.010032       0.009976   \n",
       "Rural                    0.017380 -0.050300   0.101820       0.040850   \n",
       "Semiurban               -0.009240  0.014972  -0.005004       0.012118   \n",
       "Urban                   -0.006817  0.032506  -0.093270      -0.052755   \n",
       "\n",
       "                     Gender     Rural  Semiurban     Urban  \n",
       "Dependents         0.177344 -0.010752  -0.010796  0.022142  \n",
       "ApplicantIncome    0.062626 -0.022151  -0.000099  0.021580  \n",
       "CoapplicantIncome  0.235373  0.104411  -0.038713 -0.059188  \n",
       "LoanAmount         0.177050  0.089795  -0.025874 -0.058957  \n",
       "Credit_History     0.036439  0.017380  -0.009240 -0.006817  \n",
       "Married            0.376532 -0.050300   0.014972  0.032506  \n",
       "Education         -0.010032  0.101820  -0.005004 -0.093270  \n",
       "Self_Employed      0.009976  0.040850   0.012118 -0.052755  \n",
       "Gender             1.000000  0.076237  -0.109643  0.045124  \n",
       "Rural              0.076237  1.000000  -0.531291 -0.392618  \n",
       "Semiurban         -0.109643 -0.531291   1.000000 -0.570567  \n",
       "Urban              0.045124 -0.392618  -0.570567  1.000000  "
      ]
     },
     "execution_count": 136,
     "metadata": {},
     "output_type": "execute_result"
    }
   ],
   "source": [
    "X.corr()"
   ]
  },
  {
   "cell_type": "code",
   "execution_count": 137,
   "id": "c4837a3d",
   "metadata": {},
   "outputs": [
    {
     "data": {
      "text/plain": [
       "<AxesSubplot:>"
      ]
     },
     "execution_count": 137,
     "metadata": {},
     "output_type": "execute_result"
    },
    {
     "data": {
      "image/png": "[encoded data removed]",
      "text/plain": [
       "<Figure size 432x288 with 2 Axes>"
      ]
     },
     "metadata": {
      "needs_background": "light"
     },
     "output_type": "display_data"
    }
   ],
   "source": [
    "sb.heatmap(X.corr())"
   ]
  },
  {
   "cell_type": "markdown",
   "id": "b0c516a7",
   "metadata": {},
   "source": [
    "# 2)Ridge Model"
   ]
  },
  {
   "cell_type": "markdown",
   "id": "e27def76",
   "metadata": {},
   "source": [
    "# Finding best alpha value using GridSearchCV"
   ]
  },
  {
   "cell_type": "code",
   "execution_count": 138,
   "id": "08626448",
   "metadata": {},
   "outputs": [
    {
     "data": {
      "text/plain": [
       "{'alpha': 1.1}"
      ]
     },
     "execution_count": 138,
     "metadata": {},
     "output_type": "execute_result"
    }
   ],
   "source": [
    "w = []\n",
    "q = 0.9\n",
    "for i in range(0,20):\n",
    "    q = q + 0.01\n",
    "    w.append(q)\n",
    "    \n",
    "rr = Ridge()\n",
    "tp = {\"alpha\":w}\n",
    "cv = GridSearchCV(rr,tp,scoring=\"neg_mean_absolute_error\",cv=4)\n",
    "cvmodel = cv.fit(xtrain,ytrain)\n",
    "cvmodel.best_params_"
   ]
  },
  {
   "cell_type": "markdown",
   "id": "0e9871db",
   "metadata": {},
   "source": [
    "# Creating Ridge Model"
   ]
  },
  {
   "cell_type": "code",
   "execution_count": 139,
   "id": "01c8f567",
   "metadata": {},
   "outputs": [],
   "source": [
    "rr2 = Ridge(alpha=1.1)\n",
    "model_rr2 = rr2.fit(xtrain,ytrain)"
   ]
  },
  {
   "cell_type": "markdown",
   "id": "f77dbae4",
   "metadata": {},
   "source": [
    "# Calculating train and test error"
   ]
  },
  {
   "cell_type": "code",
   "execution_count": 140,
   "id": "cb0ec400",
   "metadata": {},
   "outputs": [
    {
     "name": "stdout",
     "output_type": "stream",
     "text": [
      "Ridge Training MAE:  7.018\n",
      "Ridge Testing MAE:  5.6355\n"
     ]
    }
   ],
   "source": [
    "pred_tr_modelrr2 = model_rr2.predict(xtrain)\n",
    "err_tr_modelrr2 = round(mean_absolute_error(ytrain,pred_tr_modelrr2),4)\n",
    "print(\"Ridge Training MAE: \",err_tr_modelrr2)\n",
    "\n",
    "pred_ts_modelrr2 = model_rr2.predict(xtest)\n",
    "err_ts_modelrr2 = round(mean_absolute_error(ytest,pred_ts_modelrr2),4)\n",
    "print(\"Ridge Testing MAE: \",err_ts_modelrr2)"
   ]
  },
  {
   "cell_type": "markdown",
   "id": "d5b68f36",
   "metadata": {},
   "source": [
    "# 3)Lasso Model"
   ]
  },
  {
   "cell_type": "markdown",
   "id": "f9283d4f",
   "metadata": {},
   "source": [
    "# Finding best alpha value using GridSearchCV"
   ]
  },
  {
   "cell_type": "code",
   "execution_count": 141,
   "id": "3c16e3ba",
   "metadata": {},
   "outputs": [
    {
     "data": {
      "text/plain": [
       "{'alpha': 1.1}"
      ]
     },
     "execution_count": 141,
     "metadata": {},
     "output_type": "execute_result"
    }
   ],
   "source": [
    "w = []\n",
    "q = 0.9\n",
    "for i in range(0,20):\n",
    "    q = q + 0.01\n",
    "    w.append(q)\n",
    "    \n",
    "la = Lasso()\n",
    "tp = {\"alpha\":w}\n",
    "cv = GridSearchCV(la,tp,scoring=\"neg_mean_absolute_error\",cv=4)\n",
    "cvmodel = cv.fit(xtrain,ytrain)\n",
    "cvmodel.best_params_"
   ]
  },
  {
   "cell_type": "markdown",
   "id": "ffd436b3",
   "metadata": {},
   "source": [
    "# Creating Lasso Model"
   ]
  },
  {
   "cell_type": "code",
   "execution_count": 142,
   "id": "9e105ed4",
   "metadata": {},
   "outputs": [],
   "source": [
    "la2 = Lasso(alpha=1.1)\n",
    "model_la2 = la2.fit(xtrain,ytrain)"
   ]
  },
  {
   "cell_type": "markdown",
   "id": "fd460c04",
   "metadata": {},
   "source": [
    "# Predicting train and test error"
   ]
  },
  {
   "cell_type": "code",
   "execution_count": 143,
   "id": "5ee39193",
   "metadata": {},
   "outputs": [
    {
     "name": "stdout",
     "output_type": "stream",
     "text": [
      "Lasso Training MAE:  39.1841\n",
      "Lasso Testing MAE:  2.3311\n"
     ]
    }
   ],
   "source": [
    "pred_tr_modella2 = model_la2.predict(xtrain)\n",
    "err_tr_modella2 = round(mean_absolute_error(ytrain,pred_tr_modella2),4)\n",
    "print(\"Lasso Training MAE: \",err_tr_modella1)\n",
    "\n",
    "pred_ts_modella2 = model_la2.predict(xtest)\n",
    "err_ts_modella2 = round(mean_absolute_error(ytest,pred_ts_modella2),4)\n",
    "print(\"Lasso Testing MAE: \",err_ts_modella2)"
   ]
  },
  {
   "cell_type": "markdown",
   "id": "8fc92376",
   "metadata": {},
   "source": [
    "# 4)Decision Tree Model"
   ]
  },
  {
   "cell_type": "code",
   "execution_count": 144,
   "id": "106b0887",
   "metadata": {},
   "outputs": [],
   "source": [
    "dtr2  = DecisionTreeRegressor(random_state=21)\n",
    "model_dtr2 = dtr2.fit(xtrain,ytrain)"
   ]
  },
  {
   "cell_type": "markdown",
   "id": "baba83a0",
   "metadata": {},
   "source": [
    "# Calculating train and test error"
   ]
  },
  {
   "cell_type": "code",
   "execution_count": 145,
   "id": "18507f63",
   "metadata": {},
   "outputs": [
    {
     "name": "stdout",
     "output_type": "stream",
     "text": [
      "Decision Tree Training MAE:  0.0\n",
      "Decision Tree Testing MAE:  7.2468\n"
     ]
    }
   ],
   "source": [
    "pred_tr_modeldtr2 = model_dtr2.predict(xtrain)\n",
    "err_tr_modeldtr2 = round(mean_absolute_error(ytrain,pred_tr_modeldtr2),4)\n",
    "print(\"Decision Tree Training MAE: \",err_tr_modeldtr2)\n",
    "\n",
    "pred_ts_modeldtr2 = model_dtr2.predict(xtest)\n",
    "err_ts_modeldtr2 = round(mean_absolute_error(ytest,pred_ts_modeldtr2),4)\n",
    "print(\"Decision Tree Testing MAE: \",err_ts_modeldtr2)"
   ]
  },
  {
   "cell_type": "markdown",
   "id": "4d05df90",
   "metadata": {},
   "source": [
    "# 5)Random Forest Model"
   ]
  },
  {
   "cell_type": "markdown",
   "id": "9605b6ab",
   "metadata": {},
   "source": [
    "# Finding best value for n Estimators, max depth using GridSearchCV"
   ]
  },
  {
   "cell_type": "code",
   "execution_count": 146,
   "id": "fe8f086e",
   "metadata": {},
   "outputs": [
    {
     "data": {
      "text/plain": [
       "{'max_depth': 2, 'n_estimators': 8}"
      ]
     },
     "execution_count": 146,
     "metadata": {},
     "output_type": "execute_result"
    }
   ],
   "source": [
    "tg = {\"max_depth\":range(2,15,1),\"n_estimators\":range(2,15,1)}\n",
    "rfr = RandomForestRegressor(random_state=21)\n",
    "cv = GridSearchCV(rfr,tg,scoring=\"neg_mean_absolute_error\",cv=4)\n",
    "cvmodel = cv.fit(xtrain,ytrain)\n",
    "cvmodel.best_params_"
   ]
  },
  {
   "cell_type": "markdown",
   "id": "26580484",
   "metadata": {},
   "source": [
    "# Creating Random Forest Model"
   ]
  },
  {
   "cell_type": "code",
   "execution_count": 147,
   "id": "5f73a8a6",
   "metadata": {},
   "outputs": [],
   "source": [
    "rfo2 = RandomForestRegressor(n_estimators=8, random_state=21, max_depth=2)\n",
    "model_rfr2 = rfo2.fit(xtrain,ytrain)"
   ]
  },
  {
   "cell_type": "markdown",
   "id": "8f3b47eb",
   "metadata": {},
   "source": [
    "# Calculating train and test error"
   ]
  },
  {
   "cell_type": "code",
   "execution_count": 148,
   "id": "50f58248",
   "metadata": {},
   "outputs": [
    {
     "name": "stdout",
     "output_type": "stream",
     "text": [
      "Random Forest Training MAE:  3.8898\n",
      "Random Forest Testing MAE:  4.1571\n"
     ]
    }
   ],
   "source": [
    "pred_tr_modelrfr2 = model_rfr2.predict(xtrain)\n",
    "err_tr_modelrfr2 = round(mean_absolute_error(ytrain,pred_tr_modelrfr2),4)\n",
    "print(\"Random Forest Training MAE: \",err_tr_modelrfr2)\n",
    "\n",
    "pred_ts_modelrfr2 = model_rfr2.predict(xtest)\n",
    "err_ts_modelrfr2 = round(mean_absolute_error(ytest,pred_ts_modelrfr2),4)\n",
    "print(\"Random Forest Testing MAE: \",err_ts_modelrfr2)"
   ]
  },
  {
   "cell_type": "markdown",
   "id": "f19b9fce",
   "metadata": {},
   "source": [
    "# 6)Adaboost Regression Model"
   ]
  },
  {
   "cell_type": "markdown",
   "id": "a1ac98a0",
   "metadata": {},
   "source": [
    "# Finding best value for n Estimators using GridSearchCV"
   ]
  },
  {
   "cell_type": "code",
   "execution_count": 149,
   "id": "5482cec7",
   "metadata": {},
   "outputs": [
    {
     "data": {
      "text/plain": [
       "{'n_estimators': 2}"
      ]
     },
     "execution_count": 149,
     "metadata": {},
     "output_type": "execute_result"
    }
   ],
   "source": [
    "tg = {\"n_estimators\":range(2,15,1)}\n",
    "abm = AdaBoostRegressor(DecisionTreeRegressor(random_state=21,max_depth=2),random_state=21)\n",
    "cv = GridSearchCV(abm,tg,scoring=\"neg_mean_absolute_error\",cv=4)\n",
    "cvmodel = cv.fit(xtrain,ytrain)\n",
    "cvmodel.best_params_"
   ]
  },
  {
   "cell_type": "markdown",
   "id": "56ec4abc",
   "metadata": {},
   "source": [
    "# Creating Adaboost Regression"
   ]
  },
  {
   "cell_type": "code",
   "execution_count": 150,
   "id": "16311705",
   "metadata": {},
   "outputs": [],
   "source": [
    "boost2 = AdaBoostRegressor(DecisionTreeRegressor(random_state=21,max_depth=2),n_estimators=2,random_state=21)\n",
    "model_adr2 = boost2.fit(xtrain,ytrain)"
   ]
  },
  {
   "cell_type": "markdown",
   "id": "26c65314",
   "metadata": {},
   "source": [
    "# Calculating train and test error"
   ]
  },
  {
   "cell_type": "code",
   "execution_count": 151,
   "id": "92f63ab3",
   "metadata": {},
   "outputs": [
    {
     "name": "stdout",
     "output_type": "stream",
     "text": [
      "Adaboost Regressor Training MAE:  4.212\n",
      "Adaboost Regressor Testing MAE:  3.1747\n"
     ]
    }
   ],
   "source": [
    "pred_tr_modeladr2 = model_adr2.predict(xtrain)\n",
    "err_tr_modeladr2 = round(mean_absolute_error(ytrain,pred_tr_modeladr2),4)\n",
    "print(\"Adaboost Regressor Training MAE: \",err_tr_modeladr2)\n",
    "\n",
    "pred_ts_modeladr2 = model_adr2.predict(xtest)\n",
    "err_ts_modeladr2 = round(mean_absolute_error(ytest,pred_ts_modeladr2),4)\n",
    "print(\"Adaboost Regressor Testing MAE: \",err_ts_modeladr2)"
   ]
  },
  {
   "cell_type": "markdown",
   "id": "ba527ba8",
   "metadata": {},
   "source": [
    "# 7)KNN Regression Model"
   ]
  },
  {
   "cell_type": "markdown",
   "id": "18093183",
   "metadata": {},
   "source": [
    "# Finding best value n neighbors using GridSearchCV"
   ]
  },
  {
   "cell_type": "code",
   "execution_count": 152,
   "id": "38430bbf",
   "metadata": {},
   "outputs": [
    {
     "data": {
      "text/plain": [
       "{'n_neighbors': 7}"
      ]
     },
     "execution_count": 152,
     "metadata": {},
     "output_type": "execute_result"
    }
   ],
   "source": [
    "tg = {\"n_neighbors\":range(2,15,1)}\n",
    "knn = KNeighborsRegressor()\n",
    "cv = GridSearchCV(knn,tg,scoring=\"neg_mean_absolute_error\",cv=4)\n",
    "cvmodel = cv.fit(xtrain,ytrain)\n",
    "cvmodel.best_params_"
   ]
  },
  {
   "cell_type": "markdown",
   "id": "e5eb39a3",
   "metadata": {},
   "source": [
    "# Making of KNN model"
   ]
  },
  {
   "cell_type": "code",
   "execution_count": 153,
   "id": "06579fdd",
   "metadata": {},
   "outputs": [],
   "source": [
    "kn2 = KNeighborsRegressor(n_neighbors=10)\n",
    "model_knnr2 = kn2.fit(xtrain,ytrain)"
   ]
  },
  {
   "cell_type": "markdown",
   "id": "8215e150",
   "metadata": {},
   "source": [
    "# Calculating train and test error"
   ]
  },
  {
   "cell_type": "code",
   "execution_count": 154,
   "id": "afd87abd",
   "metadata": {},
   "outputs": [
    {
     "name": "stdout",
     "output_type": "stream",
     "text": [
      "KNN Regressor Training MAE:  6.1184\n",
      "KNN Regressor Testing MAE:  4.1688\n"
     ]
    }
   ],
   "source": [
    "pred_tr_modelknnr2 = model_knnr2.predict(xtrain)\n",
    "err_tr_modelknnr2 = round(mean_absolute_error(ytrain,pred_tr_modelknnr2),4)\n",
    "print(\"KNN Regressor Training MAE: \",err_tr_modelknnr2)\n",
    "\n",
    "pred_ts_modelknnr2 = model_knnr2.predict(xtest)\n",
    "err_ts_modelknnr2 = round(mean_absolute_error(ytest,pred_ts_modelknnr2),4)\n",
    "print(\"KNN Regressor Testing MAE: \",err_ts_modelknnr2)"
   ]
  },
  {
   "cell_type": "markdown",
   "id": "b66a1391",
   "metadata": {},
   "source": [
    "# Adaboost Regression Model is best model as compared to others"
   ]
  },
  {
   "cell_type": "markdown",
   "id": "5af5cfad",
   "metadata": {},
   "source": [
    "# Train Adaboost Regression Model with overall trainning data"
   ]
  },
  {
   "cell_type": "code",
   "execution_count": 155,
   "id": "ac051478",
   "metadata": {},
   "outputs": [],
   "source": [
    "booster = AdaBoostRegressor(DecisionTreeRegressor(random_state=21,max_depth=2),n_estimators=2,random_state=21)\n",
    "model_adr2_fin = booster.fit(X,Y)"
   ]
  },
  {
   "cell_type": "markdown",
   "id": "6369efcb",
   "metadata": {},
   "source": [
    "# Prepare testing data same as trainning data"
   ]
  },
  {
   "cell_type": "code",
   "execution_count": 156,
   "id": "26f2e2a8",
   "metadata": {},
   "outputs": [],
   "source": [
    "test_data3 = B[(B[\"Loan_Status\"]==\"N\") & (B[\"Loan_Amount_Term\"]<=240)]"
   ]
  },
  {
   "cell_type": "markdown",
   "id": "b567d166",
   "metadata": {},
   "source": [
    "# Indexing"
   ]
  },
  {
   "cell_type": "code",
   "execution_count": 157,
   "id": "d466fa8e",
   "metadata": {},
   "outputs": [],
   "source": [
    "len_test_data3 = test_data3.shape[0]\n",
    "test_data3.index = range(0,len_test_data3,1)"
   ]
  },
  {
   "cell_type": "markdown",
   "id": "70c02af0",
   "metadata": {},
   "source": [
    "# Delete Unwanted Columns"
   ]
  },
  {
   "cell_type": "code",
   "execution_count": 158,
   "id": "38e1b367",
   "metadata": {},
   "outputs": [],
   "source": [
    "test_data3 = test_data3.drop(labels=[\"Loan_Status\",\"Loan_Amount_Term\"],axis=1)"
   ]
  },
  {
   "cell_type": "markdown",
   "id": "3370f856",
   "metadata": {},
   "source": [
    "# Convert Dependents columns type into continuous"
   ]
  },
  {
   "cell_type": "code",
   "execution_count": 159,
   "id": "10fa35a8",
   "metadata": {},
   "outputs": [],
   "source": [
    "test_dep = []\n",
    "for i in test_data3.Dependents:\n",
    "    test_dep.append(int(i))\n",
    "    \n",
    "test_data3[\"Dependents\"] = test_dep"
   ]
  },
  {
   "cell_type": "markdown",
   "id": "1b36c6a6",
   "metadata": {},
   "source": [
    "# Data Preprocessing"
   ]
  },
  {
   "cell_type": "code",
   "execution_count": 160,
   "id": "3403b206",
   "metadata": {},
   "outputs": [],
   "source": [
    "cat, con = cat_con_sep(test_data3)"
   ]
  },
  {
   "cell_type": "code",
   "execution_count": 161,
   "id": "02a329fa",
   "metadata": {},
   "outputs": [
    {
     "data": {
      "text/plain": [
       "['Gender', 'Married', 'Education', 'Self_Employed']"
      ]
     },
     "execution_count": 161,
     "metadata": {},
     "output_type": "execute_result"
    }
   ],
   "source": [
    "cat.remove(\"Property_Area\")\n",
    "cat"
   ]
  },
  {
   "cell_type": "code",
   "execution_count": 162,
   "id": "d35729b0",
   "metadata": {},
   "outputs": [],
   "source": [
    "input1 = pd.get_dummies(test_data3[\"Property_Area\"])\n",
    "input2 = pd.DataFrame(lb1.fit_transform(test_data3[\"Gender\"]),columns=[\"Gender\"])\n",
    "out1 = input2.join(input1)\n",
    "input3 = pd.DataFrame(lb1.fit_transform(test_data3[\"Self_Employed\"]),columns=[\"Self_Employed\"])\n",
    "input4 = pd.DataFrame(lb1.fit_transform(test_data3[\"Education\"]),columns=[\"Education\"])\n",
    "out2 = input4.join(input3)\n",
    "input5 = pd.DataFrame(lb1.fit_transform(test_data3[\"Married\"]),columns=[\"Married\"])\n",
    "out3 = input5.join(out2)\n",
    "out4 = out3.join(out1)\n",
    "\n",
    "x_con = pd.DataFrame(ss1.fit_transform(test_data3[con]),columns=con)\n",
    "\n",
    "test_data3 = x_con.join(out4)"
   ]
  },
  {
   "cell_type": "code",
   "execution_count": 163,
   "id": "c147275a",
   "metadata": {},
   "outputs": [
    {
     "data": {
      "text/html": [
       "<div>\n",
       "<style scoped>\n",
       "    .dataframe tbody tr th:only-of-type {\n",
       "        vertical-align: middle;\n",
       "    }\n",
       "\n",
       "    .dataframe tbody tr th {\n",
       "        vertical-align: top;\n",
       "    }\n",
       "\n",
       "    .dataframe thead th {\n",
       "        text-align: right;\n",
       "    }\n",
       "</style>\n",
       "<table border=\"1\" class=\"dataframe\">\n",
       "  <thead>\n",
       "    <tr style=\"text-align: right;\">\n",
       "      <th></th>\n",
       "      <th>Dependents</th>\n",
       "      <th>ApplicantIncome</th>\n",
       "      <th>CoapplicantIncome</th>\n",
       "      <th>LoanAmount</th>\n",
       "      <th>Credit_History</th>\n",
       "      <th>Married</th>\n",
       "      <th>Education</th>\n",
       "      <th>Self_Employed</th>\n",
       "      <th>Gender</th>\n",
       "      <th>Rural</th>\n",
       "      <th>Semiurban</th>\n",
       "      <th>Urban</th>\n",
       "    </tr>\n",
       "  </thead>\n",
       "  <tbody>\n",
       "    <tr>\n",
       "      <th>0</th>\n",
       "      <td>1.154701</td>\n",
       "      <td>-1.416412</td>\n",
       "      <td>-0.890288</td>\n",
       "      <td>-1.909403</td>\n",
       "      <td>1.581139</td>\n",
       "      <td>0</td>\n",
       "      <td>1</td>\n",
       "      <td>0</td>\n",
       "      <td>0</td>\n",
       "      <td>0</td>\n",
       "      <td>0</td>\n",
       "      <td>1</td>\n",
       "    </tr>\n",
       "    <tr>\n",
       "      <th>1</th>\n",
       "      <td>-0.866025</td>\n",
       "      <td>0.966414</td>\n",
       "      <td>-0.890288</td>\n",
       "      <td>0.362345</td>\n",
       "      <td>-0.632456</td>\n",
       "      <td>1</td>\n",
       "      <td>0</td>\n",
       "      <td>0</td>\n",
       "      <td>1</td>\n",
       "      <td>0</td>\n",
       "      <td>1</td>\n",
       "      <td>0</td>\n",
       "    </tr>\n",
       "    <tr>\n",
       "      <th>2</th>\n",
       "      <td>-0.866025</td>\n",
       "      <td>-0.478545</td>\n",
       "      <td>1.173029</td>\n",
       "      <td>0.979908</td>\n",
       "      <td>-0.632456</td>\n",
       "      <td>0</td>\n",
       "      <td>0</td>\n",
       "      <td>0</td>\n",
       "      <td>1</td>\n",
       "      <td>0</td>\n",
       "      <td>0</td>\n",
       "      <td>1</td>\n",
       "    </tr>\n",
       "    <tr>\n",
       "      <th>3</th>\n",
       "      <td>-0.866025</td>\n",
       "      <td>-0.308845</td>\n",
       "      <td>1.390602</td>\n",
       "      <td>0.781406</td>\n",
       "      <td>-0.632456</td>\n",
       "      <td>1</td>\n",
       "      <td>0</td>\n",
       "      <td>0</td>\n",
       "      <td>1</td>\n",
       "      <td>0</td>\n",
       "      <td>1</td>\n",
       "      <td>0</td>\n",
       "    </tr>\n",
       "    <tr>\n",
       "      <th>4</th>\n",
       "      <td>-0.866025</td>\n",
       "      <td>-0.621133</td>\n",
       "      <td>0.861900</td>\n",
       "      <td>-0.431664</td>\n",
       "      <td>-0.632456</td>\n",
       "      <td>0</td>\n",
       "      <td>0</td>\n",
       "      <td>0</td>\n",
       "      <td>1</td>\n",
       "      <td>0</td>\n",
       "      <td>1</td>\n",
       "      <td>0</td>\n",
       "    </tr>\n",
       "    <tr>\n",
       "      <th>5</th>\n",
       "      <td>1.154701</td>\n",
       "      <td>0.028546</td>\n",
       "      <td>-0.890288</td>\n",
       "      <td>-0.740445</td>\n",
       "      <td>1.581139</td>\n",
       "      <td>1</td>\n",
       "      <td>1</td>\n",
       "      <td>0</td>\n",
       "      <td>1</td>\n",
       "      <td>1</td>\n",
       "      <td>0</td>\n",
       "      <td>0</td>\n",
       "    </tr>\n",
       "    <tr>\n",
       "      <th>6</th>\n",
       "      <td>1.154701</td>\n",
       "      <td>1.829975</td>\n",
       "      <td>-0.754667</td>\n",
       "      <td>0.957852</td>\n",
       "      <td>-0.632456</td>\n",
       "      <td>1</td>\n",
       "      <td>1</td>\n",
       "      <td>0</td>\n",
       "      <td>1</td>\n",
       "      <td>0</td>\n",
       "      <td>1</td>\n",
       "      <td>0</td>\n",
       "    </tr>\n",
       "  </tbody>\n",
       "</table>\n",
       "</div>"
      ],
      "text/plain": [
       "   Dependents  ApplicantIncome  CoapplicantIncome  LoanAmount  Credit_History  \\\n",
       "0    1.154701        -1.416412          -0.890288   -1.909403        1.581139   \n",
       "1   -0.866025         0.966414          -0.890288    0.362345       -0.632456   \n",
       "2   -0.866025        -0.478545           1.173029    0.979908       -0.632456   \n",
       "3   -0.866025        -0.308845           1.390602    0.781406       -0.632456   \n",
       "4   -0.866025        -0.621133           0.861900   -0.431664       -0.632456   \n",
       "5    1.154701         0.028546          -0.890288   -0.740445        1.581139   \n",
       "6    1.154701         1.829975          -0.754667    0.957852       -0.632456   \n",
       "\n",
       "   Married  Education  Self_Employed  Gender  Rural  Semiurban  Urban  \n",
       "0        0          1              0       0      0          0      1  \n",
       "1        1          0              0       1      0          1      0  \n",
       "2        0          0              0       1      0          0      1  \n",
       "3        1          0              0       1      0          1      0  \n",
       "4        0          0              0       1      0          1      0  \n",
       "5        1          1              0       1      1          0      0  \n",
       "6        1          1              0       1      0          1      0  "
      ]
     },
     "execution_count": 163,
     "metadata": {},
     "output_type": "execute_result"
    }
   ],
   "source": [
    "test_data3"
   ]
  },
  {
   "cell_type": "markdown",
   "id": "f847aa61",
   "metadata": {},
   "source": [
    "# Predicting Loan Amount Term"
   ]
  },
  {
   "cell_type": "code",
   "execution_count": 164,
   "id": "72644a43",
   "metadata": {},
   "outputs": [],
   "source": [
    "pred_loan_amount_term = model_adr2_fin.predict(test_data3)"
   ]
  },
  {
   "cell_type": "code",
   "execution_count": 165,
   "id": "3e7c68b6",
   "metadata": {},
   "outputs": [],
   "source": [
    "la_term = []\n",
    "for i in pred_loan_amount_term:\n",
    "    la_term.append(round(i))"
   ]
  },
  {
   "cell_type": "code",
   "execution_count": 166,
   "id": "d48284b7",
   "metadata": {},
   "outputs": [
    {
     "data": {
      "text/plain": [
       "[360, 352, 352, 352, 352, 360, 352]"
      ]
     },
     "execution_count": 166,
     "metadata": {},
     "output_type": "execute_result"
    }
   ],
   "source": [
    "la_term"
   ]
  },
  {
   "cell_type": "code",
   "execution_count": 167,
   "id": "2382edac",
   "metadata": {},
   "outputs": [],
   "source": [
    "D = B[(B[\"Loan_Status\"]==\"N\") & (B[\"Loan_Amount_Term\"]<=240)]"
   ]
  },
  {
   "cell_type": "code",
   "execution_count": 168,
   "id": "24b7bd32",
   "metadata": {},
   "outputs": [],
   "source": [
    "len_D = D.shape[0]\n",
    "D.index = range(0,len_D,1)"
   ]
  },
  {
   "cell_type": "code",
   "execution_count": 169,
   "id": "79ac700a",
   "metadata": {},
   "outputs": [],
   "source": [
    "D = D.drop(labels=[\"Loan_Amount_Term\",\"Loan_Status\"],axis=1)"
   ]
  },
  {
   "cell_type": "code",
   "execution_count": 170,
   "id": "35a16c9c",
   "metadata": {},
   "outputs": [],
   "source": [
    "D[\"Loan_Amount_Term\"] = la_term"
   ]
  },
  {
   "cell_type": "code",
   "execution_count": 171,
   "id": "d5c0884c",
   "metadata": {},
   "outputs": [
    {
     "data": {
      "text/html": [
       "<div>\n",
       "<style scoped>\n",
       "    .dataframe tbody tr th:only-of-type {\n",
       "        vertical-align: middle;\n",
       "    }\n",
       "\n",
       "    .dataframe tbody tr th {\n",
       "        vertical-align: top;\n",
       "    }\n",
       "\n",
       "    .dataframe thead th {\n",
       "        text-align: right;\n",
       "    }\n",
       "</style>\n",
       "<table border=\"1\" class=\"dataframe\">\n",
       "  <thead>\n",
       "    <tr style=\"text-align: right;\">\n",
       "      <th></th>\n",
       "      <th>Gender</th>\n",
       "      <th>Married</th>\n",
       "      <th>Dependents</th>\n",
       "      <th>Education</th>\n",
       "      <th>Self_Employed</th>\n",
       "      <th>ApplicantIncome</th>\n",
       "      <th>CoapplicantIncome</th>\n",
       "      <th>LoanAmount</th>\n",
       "      <th>Credit_History</th>\n",
       "      <th>Property_Area</th>\n",
       "      <th>Loan_Amount_Term</th>\n",
       "    </tr>\n",
       "  </thead>\n",
       "  <tbody>\n",
       "    <tr>\n",
       "      <th>0</th>\n",
       "      <td>Female</td>\n",
       "      <td>No</td>\n",
       "      <td>3</td>\n",
       "      <td>Not Graduate</td>\n",
       "      <td>No</td>\n",
       "      <td>2083</td>\n",
       "      <td>0</td>\n",
       "      <td>28.0</td>\n",
       "      <td>1.0</td>\n",
       "      <td>Urban</td>\n",
       "      <td>360</td>\n",
       "    </tr>\n",
       "    <tr>\n",
       "      <th>1</th>\n",
       "      <td>Male</td>\n",
       "      <td>Yes</td>\n",
       "      <td>0</td>\n",
       "      <td>Graduate</td>\n",
       "      <td>No</td>\n",
       "      <td>4456</td>\n",
       "      <td>0</td>\n",
       "      <td>131.0</td>\n",
       "      <td>0.0</td>\n",
       "      <td>Semiurban</td>\n",
       "      <td>352</td>\n",
       "    </tr>\n",
       "    <tr>\n",
       "      <th>2</th>\n",
       "      <td>Male</td>\n",
       "      <td>No</td>\n",
       "      <td>0</td>\n",
       "      <td>Graduate</td>\n",
       "      <td>No</td>\n",
       "      <td>3017</td>\n",
       "      <td>2845</td>\n",
       "      <td>159.0</td>\n",
       "      <td>0.0</td>\n",
       "      <td>Urban</td>\n",
       "      <td>352</td>\n",
       "    </tr>\n",
       "    <tr>\n",
       "      <th>3</th>\n",
       "      <td>Male</td>\n",
       "      <td>Yes</td>\n",
       "      <td>0</td>\n",
       "      <td>Graduate</td>\n",
       "      <td>No</td>\n",
       "      <td>3186</td>\n",
       "      <td>3145</td>\n",
       "      <td>150.0</td>\n",
       "      <td>0.0</td>\n",
       "      <td>Semiurban</td>\n",
       "      <td>352</td>\n",
       "    </tr>\n",
       "    <tr>\n",
       "      <th>4</th>\n",
       "      <td>Male</td>\n",
       "      <td>No</td>\n",
       "      <td>0</td>\n",
       "      <td>Graduate</td>\n",
       "      <td>No</td>\n",
       "      <td>2875</td>\n",
       "      <td>2416</td>\n",
       "      <td>95.0</td>\n",
       "      <td>0.0</td>\n",
       "      <td>Semiurban</td>\n",
       "      <td>352</td>\n",
       "    </tr>\n",
       "    <tr>\n",
       "      <th>5</th>\n",
       "      <td>Male</td>\n",
       "      <td>Yes</td>\n",
       "      <td>3</td>\n",
       "      <td>Not Graduate</td>\n",
       "      <td>No</td>\n",
       "      <td>3522</td>\n",
       "      <td>0</td>\n",
       "      <td>81.0</td>\n",
       "      <td>1.0</td>\n",
       "      <td>Rural</td>\n",
       "      <td>360</td>\n",
       "    </tr>\n",
       "    <tr>\n",
       "      <th>6</th>\n",
       "      <td>Male</td>\n",
       "      <td>Yes</td>\n",
       "      <td>3</td>\n",
       "      <td>Not Graduate</td>\n",
       "      <td>No</td>\n",
       "      <td>5316</td>\n",
       "      <td>187</td>\n",
       "      <td>158.0</td>\n",
       "      <td>0.0</td>\n",
       "      <td>Semiurban</td>\n",
       "      <td>352</td>\n",
       "    </tr>\n",
       "  </tbody>\n",
       "</table>\n",
       "</div>"
      ],
      "text/plain": [
       "   Gender Married Dependents     Education Self_Employed  ApplicantIncome  \\\n",
       "0  Female      No          3  Not Graduate            No             2083   \n",
       "1    Male     Yes          0      Graduate            No             4456   \n",
       "2    Male      No          0      Graduate            No             3017   \n",
       "3    Male     Yes          0      Graduate            No             3186   \n",
       "4    Male      No          0      Graduate            No             2875   \n",
       "5    Male     Yes          3  Not Graduate            No             3522   \n",
       "6    Male     Yes          3  Not Graduate            No             5316   \n",
       "\n",
       "   CoapplicantIncome  LoanAmount  Credit_History Property_Area  \\\n",
       "0                  0        28.0             1.0         Urban   \n",
       "1                  0       131.0             0.0     Semiurban   \n",
       "2               2845       159.0             0.0         Urban   \n",
       "3               3145       150.0             0.0     Semiurban   \n",
       "4               2416        95.0             0.0     Semiurban   \n",
       "5                  0        81.0             1.0         Rural   \n",
       "6                187       158.0             0.0     Semiurban   \n",
       "\n",
       "   Loan_Amount_Term  \n",
       "0               360  \n",
       "1               352  \n",
       "2               352  \n",
       "3               352  \n",
       "4               352  \n",
       "5               360  \n",
       "6               352  "
      ]
     },
     "execution_count": 171,
     "metadata": {},
     "output_type": "execute_result"
    }
   ],
   "source": [
    "D"
   ]
  },
  {
   "cell_type": "code",
   "execution_count": null,
   "id": "3856971f",
   "metadata": {},
   "outputs": [],
   "source": []
  },
  {
   "cell_type": "code",
   "execution_count": null,
   "id": "57c2fa3b",
   "metadata": {},
   "outputs": [],
   "source": []
  },
  {
   "cell_type": "code",
   "execution_count": null,
   "id": "8e0270a5",
   "metadata": {},
   "outputs": [],
   "source": []
  }
 ],
 "metadata": {
  "kernelspec": {
   "display_name": "Python 3 (ipykernel)",
   "language": "python",
   "name": "python3"
  },
  "language_info": {
   "codemirror_mode": {
    "name": "ipython",
    "version": 3
   },
   "file_extension": ".py",
   "mimetype": "text/x-python",
   "name": "python",
   "nbconvert_exporter": "python",
   "pygments_lexer": "ipython3",
   "version": "3.8.11"
  }
 },
 "nbformat": 4,
 "nbformat_minor": 5
}
